{
  "cells": [
    {
      "cell_type": "code",
      "execution_count": 20,
      "metadata": {
        "pycharm": {
          "is_executing": false,
          "metadata": false,
          "name": "#%%\n"
        }
      },
      "outputs": [
        {
          "name": "stdout",
          "text": [
            "The autoreload extension is already loaded. To reload it, use:\n  %reload_ext autoreload\n"
          ],
          "output_type": "stream"
        }
      ],
      "source": "%load_ext autoreload\n%autoreload 2\n"
    },
    {
      "cell_type": "code",
      "execution_count": 21,
      "outputs": [],
      "source": "from scipy.stats import ks_2samp\nfrom interface import MFDataGenerator\nfrom test_bench import load_movielens_ratings\nfrom torch_model import TorchDataGenerator\nimport os.path\nimport pickle\nimport numpy as np\nimport matplotlib.pyplot as plt\n",
      "metadata": {
        "pycharm": {
          "metadata": false,
          "name": "#%%\n",
          "is_executing": false
        }
      }
    },
    {
      "cell_type": "code",
      "execution_count": 22,
      "metadata": {
        "pycharm": {
          "is_executing": false,
          "metadata": false,
          "name": "#%%\n"
        }
      },
      "outputs": [],
      "source": "if os.path.exists(\"data.pickle\"):\n    with open(\"data.pickle\", \"rb\") as f:\n        rating_matrix \u003d pickle.load(f)\n        id_to_user \u003d pickle.load(f)\n        id_to_item \u003d pickle.load(f)\nelse:\n    ratings \u003d load_movielens_ratings()\n    rating_matrix, id_to_user, id_to_item \u003d ratings\n\n    with open(\"data.pickle\", \"wb\") as f:\n        pickle.dump(rating_matrix, f)\n        pickle.dump(id_to_user, f)\n        pickle.dump(id_to_item, f)"
    },
    {
      "cell_type": "code",
      "execution_count": 23,
      "metadata": {
        "pycharm": {
          "is_executing": false,
          "metadata": false,
          "name": "#%%\n"
        }
      },
      "outputs": [],
      "source": "if os.path.exists(\"mf.pickle\"):\n    with open(\"mf.pickle\", \"rb\") as f:\n        mf \u003d pickle.load(f)\nelse:\n    mf \u003d TorchDataGenerator(rating_matrix, 20)\n    mf._build_mf(200)\n    \n    with open(\"mf.pickle\", \"wb\") as f:\n        pickle.dump(mf, f)\n"
    },
    {
      "cell_type": "code",
      "execution_count": 44,
      "metadata": {
        "pycharm": {
          "is_executing": false,
          "metadata": false,
          "name": "#%%\n"
        }
      },
      "outputs": [
        {
          "name": "stderr",
          "text": [
            "d:\\onedrive\\projects\\aimchess-analytics\\venv\\lib\\site-packages\\torch\\nn\\modules\\loss.py:512: UserWarning: Using a target size (torch.Size([256])) that is different to the input size (torch.Size([1, 256])) is deprecated. Please ensure they have the same size.\n  return F.binary_cross_entropy(input, target, weight\u003dself.weight, reduction\u003dself.reduction)\n",
            "d:\\onedrive\\projects\\aimchess-analytics\\venv\\lib\\site-packages\\torch\\nn\\modules\\loss.py:512: UserWarning: Using a target size (torch.Size([484])) that is different to the input size (torch.Size([1, 484])) is deprecated. Please ensure they have the same size.\n  return F.binary_cross_entropy(input, target, weight\u003dself.weight, reduction\u003dself.reduction)\n"
          ],
          "output_type": "stream"
        },
        {
          "name": "stdout",
          "text": [
            "Epoch  0 RMSE 0.04012860776501075 Proba loss 0.7865575773418708 Total loss 0.43340739607810974\n",
            "Epoch  1 RMSE 0.05820803678388359 Proba loss 0.7152516985970903 Total loss 0.4158338861156056\n",
            "Epoch  2 RMSE 0.11765266261027969 Proba loss 0.6202081581411775 Total loss 0.4277567412258711\n",
            "Epoch  3 RMSE 0.12182385262585323 Proba loss 0.5685720254901712 Total loss 0.40610986508182595\n",
            "Epoch  4 RMSE 0.09707972183160048 Proba loss 0.5101016551332013 Total loss 0.35213055012335304\n",
            "Epoch  5 RMSE 0.08760489347099348 Proba loss 0.4490486680703005 Total loss 0.3121292273355198\n",
            "Epoch  6 RMSE 0.09059994687200654 Proba loss 0.43714708044328765 Total loss 0.3091734869941197\n",
            "Epoch  7 RMSE 0.09095287957150518 Proba loss 0.3912153816556809 Total loss 0.28656057031403365\n",
            "Epoch  8 RMSE 0.09371014751740388 Proba loss 0.38637512793371087 Total loss 0.28689771128519803\n",
            "Epoch  9 RMSE 0.08943565209270585 Proba loss 0.3553742442953071 Total loss 0.2671227741029123\n",
            "Epoch  10 RMSE 0.0921924875494633 Proba loss 0.34704474274438757 Total loss 0.2657148588932198\n",
            "Epoch  11 RMSE 0.08886991585332323 Proba loss 0.32334404660545235 Total loss 0.25054193911813294\n",
            "Epoch  12 RMSE 0.08678349217461569 Proba loss 0.32021461082172153 Total loss 0.24689079771818398\n",
            "Epoch  13 RMSE 0.08266410879961407 Proba loss 0.3008290281656741 Total loss 0.2330786233564066\n",
            "Epoch  14 RMSE 0.08466070784260601 Proba loss 0.2943424729976339 Total loss 0.23183194443621405\n",
            "Epoch  15 RMSE 0.08061394990248838 Proba loss 0.28692509707907077 Total loss 0.2240764987453553\n",
            "Epoch  16 RMSE 0.08236863974093178 Proba loss 0.27812093435656327 Total loss 0.2214291066158819\n",
            "Epoch  17 RMSE 0.0817638645967606 Proba loss 0.2690320460092627 Total loss 0.21627988797107725\n",
            "Epoch  18 RMSE 0.08342150186423127 Proba loss 0.2630051775591367 Total loss 0.21492409008453214\n",
            "Epoch  19 RMSE 0.08004812920897365 Proba loss 0.26026242186549964 Total loss 0.2101793401796399\n",
            "Epoch  20 RMSE 0.07722411694303724 Proba loss 0.2519350392748685 Total loss 0.20319163598328752\n",
            "Epoch  21 RMSE 0.07637754687446978 Proba loss 0.24391958731731386 Total loss 0.1983373401729205\n",
            "Epoch  22 RMSE 0.07759925889908206 Proba loss 0.24103624785067773 Total loss 0.19811738295712847\n",
            "Epoch  23 RMSE 0.07755461895397602 Proba loss 0.23885371534120642 Total loss 0.19698147710801384\n",
            "Epoch  24 RMSE 0.07736909599932096 Proba loss 0.2323309415548509 Total loss 0.19353456651133133\n",
            "Epoch  25 RMSE 0.07549208213051463 Proba loss 0.2289583411911365 Total loss 0.18997125266920822\n",
            "Epoch  26 RMSE 0.07429603567825625 Proba loss 0.22610859485679607 Total loss 0.18735033288863476\n",
            "Epoch  27 RMSE 0.07518389612512127 Proba loss 0.21772852373183835 Total loss 0.18404815835124663\n",
            "Epoch  28 RMSE 0.0763061112954113 Proba loss 0.22136199584292396 Total loss 0.1869871091410404\n",
            "Epoch  29 RMSE 0.0768219546412542 Proba loss 0.2144402940840515 Total loss 0.184042102034007\n",
            "Epoch  30 RMSE 0.07591479694418628 Proba loss 0.2163287690122619 Total loss 0.18407918097636172\n",
            "Epoch  31 RMSE 0.07586753771239868 Proba loss 0.21025722255840254 Total loss 0.1809961489442044\n",
            "Epoch  32 RMSE 0.07594471058924386 Proba loss 0.2118599426579536 Total loss 0.18187468169072202\n",
            "Epoch  33 RMSE 0.07856848418864282 Proba loss 0.20634797014504594 Total loss 0.18174246962137197\n",
            "Epoch  34 RMSE 0.07671993142396742 Proba loss 0.2062035496074128 Total loss 0.1798217064741307\n",
            "Epoch  35 RMSE 0.07948867748218942 Proba loss 0.2027076840324863 Total loss 0.1808425198112432\n",
            "Epoch  36 RMSE 0.07301214904199727 Proba loss 0.2037244881609924 Total loss 0.17487439272437083\n",
            "Epoch  37 RMSE 0.07249350578502844 Proba loss 0.19744050768192184 Total loss 0.17121375960703114\n",
            "Epoch  38 RMSE 0.07183820343844156 Proba loss 0.1991577059713029 Total loss 0.17141705647148855\n",
            "Epoch  39 RMSE 0.06951850785402244 Proba loss 0.19359788486293253 Total loss 0.16631745035184248\n",
            "Epoch  40 RMSE 0.06892293604427319 Proba loss 0.1926792682203021 Total loss 0.16526257053358864\n",
            "Epoch  41 RMSE 0.06678275930820834 Proba loss 0.18901751294694177 Total loss 0.16129151599021965\n",
            "Epoch  42 RMSE 0.06684044675555545 Proba loss 0.18790569802883625 Total loss 0.1607932961586171\n",
            "Epoch  43 RMSE 0.06524631379139029 Proba loss 0.18783350078431704 Total loss 0.15916306402240393\n",
            "Epoch  44 RMSE 0.06635574101643404 Proba loss 0.18661231160846375 Total loss 0.15966189692493613\n",
            "Epoch  45 RMSE 0.06704076909893797 Proba loss 0.18358254199492113 Total loss 0.15883203950395414\n",
            "Epoch  46 RMSE 0.0695584253917517 Proba loss 0.1857975311482529 Total loss 0.162457191382959\n",
            "Epoch  47 RMSE 0.06895076939433283 Proba loss 0.1832649388727341 Total loss 0.16058323920986428\n",
            "Epoch  48 RMSE 0.06812704580127435 Proba loss 0.1836868030121005 Total loss 0.15997044755378145\n",
            "Epoch  49 RMSE 0.06866621417550337 Proba loss 0.1829101335797601 Total loss 0.1601212810317372\n",
            "Epoch  50 RMSE 0.06805267814385679 Proba loss 0.1860000731532507 Total loss 0.1610527147773568\n",
            "Epoch  51 RMSE 0.068505943020564 Proba loss 0.18279112712420884 Total loss 0.15990150615610846\n",
            "Epoch  52 RMSE 0.06907238527829107 Proba loss 0.18155229049936203 Total loss 0.15984853059432585\n",
            "Epoch  53 RMSE 0.06820655292321859 Proba loss 0.17961646294169148 Total loss 0.15801478419974258\n",
            "Epoch  54 RMSE 0.06835798579848754 Proba loss 0.17774376426716798 Total loss 0.157229867543428\n",
            "Epoch  55 RMSE 0.06645804817572654 Proba loss 0.1776465837471661 Total loss 0.15528133989290427\n",
            "Epoch  56 RMSE 0.06647671303183371 Proba loss 0.1763811484547972 Total loss 0.15466728770475047\n",
            "Epoch  57 RMSE 0.0652141628962285 Proba loss 0.17297252144370673 Total loss 0.15170042366547742\n",
            "Epoch  58 RMSE 0.0627013194557213 Proba loss 0.17455195946471988 Total loss 0.1499772990743319\n",
            "Epoch  59 RMSE 0.06250975244505563 Proba loss 0.17327566581372997 Total loss 0.14914758526186905\n",
            "Epoch  60 RMSE 0.062393169215010626 Proba loss 0.17365603365060936 Total loss 0.14922118624885575\n",
            "Epoch  61 RMSE 0.06324276091583055 Proba loss 0.16830663356465542 Total loss 0.1473960775038365\n",
            "Epoch  62 RMSE 0.06312956906968856 Proba loss 0.1728089002859198 Total loss 0.14953401923634624\n",
            "Epoch  63 RMSE 0.06260118824986707 Proba loss 0.16859545014590102 Total loss 0.14689891328490115\n",
            "Epoch  64 RMSE 0.06288867530059875 Proba loss 0.17225319279817528 Total loss 0.1490152716333326\n",
            "Epoch  65 RMSE 0.06473825450124025 Proba loss 0.16879754648105486 Total loss 0.14913702788395433\n",
            "Epoch  66 RMSE 0.06614914034557251 Proba loss 0.16946936040434218 Total loss 0.15088382107383422\n",
            "Epoch  67 RMSE 0.0675053558722328 Proba loss 0.1685102545388479 Total loss 0.15176048340233228\n",
            "Epoch  68 RMSE 0.06960267976931185 Proba loss 0.17033019680861602 Total loss 0.1547677777044039\n",
            "Epoch  69 RMSE 0.06799250559611175 Proba loss 0.17018899979406338 Total loss 0.15308700570168385\n",
            "Epoch  70 RMSE 0.0664453337788961 Proba loss 0.16676184481943535 Total loss 0.14982625595637558\n",
            "Epoch  71 RMSE 0.0616048931952272 Proba loss 0.16367254832773717 Total loss 0.14344116707946206\n",
            "Epoch  72 RMSE 0.05998146111908684 Proba loss 0.1656455749660048 Total loss 0.1428042488888323\n",
            "Epoch  73 RMSE 0.05830974358373319 Proba loss 0.16319359063571343 Total loss 0.13990653884471524\n",
            "Epoch  74 RMSE 0.05779874349918226 Proba loss 0.16184125736393698 Total loss 0.1387193722806814\n",
            "Epoch  75 RMSE 0.05843485485165174 Proba loss 0.16290799735004968 Total loss 0.1398888540101112\n",
            "Epoch  76 RMSE 0.05968862268173209 Proba loss 0.16249622514533027 Total loss 0.14093673532549056\n",
            "Epoch  77 RMSE 0.0622740902253083 Proba loss 0.16146524307382015 Total loss 0.143006711989717\n",
            "Epoch  78 RMSE 0.06174717936427842 Proba loss 0.1650592742189196 Total loss 0.14427681619884403\n",
            "Epoch  79 RMSE 0.062242399398758814 Proba loss 0.16402858556378586 Total loss 0.1442566921616935\n",
            "Epoch  80 RMSE 0.06276607390199303 Proba loss 0.16464964929806974 Total loss 0.14509089871217276\n",
            "Epoch  81 RMSE 0.06444887817853887 Proba loss 0.16315586091452883 Total loss 0.1460268087590317\n",
            "Epoch  82 RMSE 0.0644330318694882 Proba loss 0.16579579364783284 Total loss 0.14733092845168733\n",
            "Epoch  83 RMSE 0.06263850507997071 Proba loss 0.16410431413705112 Total loss 0.14469066184516474\n",
            "Epoch  84 RMSE 0.062173522776585194 Proba loss 0.164693600102387 Total loss 0.14452032270928983\n",
            "Epoch  85 RMSE 0.0663946005859372 Proba loss 0.16127982068304494 Total loss 0.1470345107236588\n",
            "Epoch  86 RMSE 0.06422711597191544 Proba loss 0.16474379722322824 Total loss 0.14659901452428512\n",
            "Epoch  87 RMSE 0.06646862228427072 Proba loss 0.16174641617457677 Total loss 0.1473418305848391\n",
            "Epoch  88 RMSE 0.06273516212085276 Proba loss 0.16086143113047113 Total loss 0.14316587777613987\n",
            "Epoch  89 RMSE 0.05971376353557253 Proba loss 0.16230626222286515 Total loss 0.14086689485317574\n",
            "Epoch  90 RMSE 0.05661748357723839 Proba loss 0.1576332690303259 Total loss 0.13543411797391247\n",
            "Epoch  91 RMSE 0.05562047181892713 Proba loss 0.15760626387960128 Total loss 0.13442360351938024\n",
            "Epoch  92 RMSE 0.055512758787086294 Proba loss 0.15432617982076932 Total loss 0.1326758489771047\n",
            "Epoch  93 RMSE 0.05622536743547928 Proba loss 0.15858463393216218 Total loss 0.1355176845579657\n",
            "Epoch  94 RMSE 0.057174110979448446 Proba loss 0.15642313082861234 Total loss 0.1353856763653173\n",
            "Epoch  95 RMSE 0.05767291530720302 Proba loss 0.15867324590531318 Total loss 0.1370095381034543\n",
            "Epoch  96 RMSE 0.058181433063995744 Proba loss 0.1574845988748941 Total loss 0.13692373236399571\n",
            "Epoch  97 RMSE 0.05835945664433426 Proba loss 0.15786520262786755 Total loss 0.13729205799618446\n",
            "Epoch  98 RMSE 0.060565663838128704 Proba loss 0.15617952958393946 Total loss 0.13865542853530732\n",
            "Epoch  99 RMSE 0.060639314353466034 Proba loss 0.1563357392340216 Total loss 0.13880718372401998\n",
            "Epoch  100 RMSE 0.06092054857078551 Proba loss 0.15751237725559386 Total loss 0.13967673717488466\n",
            "Epoch  101 RMSE 0.06192941307244258 Proba loss 0.1592885740575293 Total loss 0.14157370053250673\n",
            "Epoch  102 RMSE 0.06583484741397032 Proba loss 0.15933204859343497 Total loss 0.14550087206615442\n",
            "Epoch  103 RMSE 0.06622088902911916 Proba loss 0.15995299184822853 Total loss 0.14619738513807606\n",
            "Epoch  104 RMSE 0.062121541364919444 Proba loss 0.15939383504499915 Total loss 0.1418184586267435\n",
            "Epoch  105 RMSE 0.059734484195026735 Proba loss 0.1562718495006173 Total loss 0.1378704089548145\n",
            "Epoch  106 RMSE 0.05735984583961145 Proba loss 0.16145931544498027 Total loss 0.1380895036663718\n",
            "Epoch  107 RMSE 0.05784378293664704 Proba loss 0.1563230191781624 Total loss 0.1360052924878118\n",
            "Epoch  108 RMSE 0.05706902273454284 Proba loss 0.1608244424671617 Total loss 0.13748124380223928\n",
            "Epoch  109 RMSE 0.05701698275619487 Proba loss 0.15290890002751167 Total loss 0.13347143281734627\n",
            "Epoch  110 RMSE 0.05640524441409505 Proba loss 0.15711157516820437 Total loss 0.13496103202189502\n",
            "Epoch  111 RMSE 0.05534579183991629 Proba loss 0.15439194710048404 Total loss 0.1325417652195343\n",
            "Epoch  112 RMSE 0.055917200170286736 Proba loss 0.15728352431198417 Total loss 0.13455896246372592\n"
          ],
          "output_type": "stream"
        },
        {
          "traceback": [
            "\u001b[1;31m---------------------------------------------------------------------------\u001b[0m",
            "\u001b[1;31mKeyboardInterrupt\u001b[0m                         Traceback (most recent call last)",
            "\u001b[1;32m\u003cipython-input-44-3e5966d0e659\u003e\u001b[0m in \u001b[0;36m\u003cmodule\u003e\u001b[1;34m\u001b[0m\n\u001b[0;32m     20\u001b[0m     \u001b[0mmf\u001b[0m\u001b[1;33m.\u001b[0m\u001b[0mepochs\u001b[0m \u001b[1;33m\u003d\u001b[0m \u001b[1;36m150\u001b[0m\u001b[1;33m\u001b[0m\u001b[0m\n\u001b[0;32m     21\u001b[0m     \u001b[0mmf\u001b[0m\u001b[1;33m.\u001b[0m\u001b[0m_build_torch_model\u001b[0m\u001b[1;33m(\u001b[0m\u001b[1;36m200\u001b[0m\u001b[1;33m)\u001b[0m\u001b[1;33m\u001b[0m\u001b[0m\n\u001b[1;32m---\u003e 22\u001b[1;33m     \u001b[0mmf\u001b[0m\u001b[1;33m.\u001b[0m\u001b[0m_train_torch_model\u001b[0m\u001b[1;33m(\u001b[0m\u001b[0mlogloss_coef\u001b[0m\u001b[1;33m,\u001b[0m \u001b[0mlr\u001b[0m\u001b[1;33m\u003d\u001b[0m\u001b[1;36m4e-3\u001b[0m\u001b[1;33m,\u001b[0m \u001b[0mimplicit_logloss\u001b[0m\u001b[1;33m\u003d\u001b[0m\u001b[0milc\u001b[0m\u001b[1;33m)\u001b[0m\u001b[1;33m\u001b[0m\u001b[0m\n\u001b[0m\u001b[0;32m     23\u001b[0m \u001b[1;33m\u001b[0m\u001b[0m\n\u001b[0;32m     24\u001b[0m     \u001b[0mmf\u001b[0m\u001b[1;33m.\u001b[0m\u001b[0muser_vectors\u001b[0m \u001b[1;33m\u003d\u001b[0m \u001b[0mmf\u001b[0m\u001b[1;33m.\u001b[0m\u001b[0mmodel\u001b[0m\u001b[1;33m.\u001b[0m\u001b[0muser_factors\u001b[0m\u001b[1;33m.\u001b[0m\u001b[0mweight\u001b[0m\u001b[1;33m.\u001b[0m\u001b[0mdetach\u001b[0m\u001b[1;33m(\u001b[0m\u001b[1;33m)\u001b[0m\u001b[1;33m.\u001b[0m\u001b[0mnumpy\u001b[0m\u001b[1;33m(\u001b[0m\u001b[1;33m)\u001b[0m\u001b[1;33m\u001b[0m\u001b[0m\n",
            "\u001b[1;32mD:\\OneDrive\\projects\\synthetic-kun\\torch_model.py\u001b[0m in \u001b[0;36m_train_torch_model\u001b[1;34m(self, logloss_weight, lr, implicit_logloss)\u001b[0m\n\u001b[0;32m     93\u001b[0m                     \u001b[0mlsum3\u001b[0m\u001b[1;33m.\u001b[0m\u001b[0mappend\u001b[0m\u001b[1;33m(\u001b[0m\u001b[0mloss\u001b[0m\u001b[1;33m.\u001b[0m\u001b[0mitem\u001b[0m\u001b[1;33m(\u001b[0m\u001b[1;33m)\u001b[0m\u001b[1;33m)\u001b[0m\u001b[1;33m\u001b[0m\u001b[0m\n\u001b[0;32m     94\u001b[0m \u001b[1;33m\u001b[0m\u001b[0m\n\u001b[1;32m---\u003e 95\u001b[1;33m                     \u001b[0mloss\u001b[0m\u001b[1;33m.\u001b[0m\u001b[0mbackward\u001b[0m\u001b[1;33m(\u001b[0m\u001b[1;33m)\u001b[0m\u001b[1;33m\u001b[0m\u001b[0m\n\u001b[0m\u001b[0;32m     96\u001b[0m                     \u001b[0moptimizer\u001b[0m\u001b[1;33m.\u001b[0m\u001b[0mstep\u001b[0m\u001b[1;33m(\u001b[0m\u001b[1;33m)\u001b[0m\u001b[1;33m\u001b[0m\u001b[0m\n\u001b[0;32m     97\u001b[0m                     \u001b[0mbatch_u\u001b[0m \u001b[1;33m\u003d\u001b[0m \u001b[1;33m[\u001b[0m\u001b[1;33m]\u001b[0m\u001b[1;33m\u001b[0m\u001b[0m\n",
            "\u001b[1;32md:\\onedrive\\projects\\aimchess-analytics\\venv\\lib\\site-packages\\torch\\tensor.py\u001b[0m in \u001b[0;36mbackward\u001b[1;34m(self, gradient, retain_graph, create_graph)\u001b[0m\n\u001b[0;32m    105\u001b[0m                 \u001b[0mproducts\u001b[0m\u001b[1;33m.\u001b[0m \u001b[0mDefaults\u001b[0m \u001b[0mto\u001b[0m\u001b[0;31m \u001b[0m\u001b[0;31m`\u001b[0m\u001b[0;31m`\u001b[0m\u001b[1;32mFalse\u001b[0m\u001b[0;31m`\u001b[0m\u001b[0;31m`\u001b[0m\u001b[1;33m.\u001b[0m\u001b[1;33m\u001b[0m\u001b[0m\n\u001b[0;32m    106\u001b[0m         \"\"\"\n\u001b[1;32m--\u003e 107\u001b[1;33m         \u001b[0mtorch\u001b[0m\u001b[1;33m.\u001b[0m\u001b[0mautograd\u001b[0m\u001b[1;33m.\u001b[0m\u001b[0mbackward\u001b[0m\u001b[1;33m(\u001b[0m\u001b[0mself\u001b[0m\u001b[1;33m,\u001b[0m \u001b[0mgradient\u001b[0m\u001b[1;33m,\u001b[0m \u001b[0mretain_graph\u001b[0m\u001b[1;33m,\u001b[0m \u001b[0mcreate_graph\u001b[0m\u001b[1;33m)\u001b[0m\u001b[1;33m\u001b[0m\u001b[0m\n\u001b[0m\u001b[0;32m    108\u001b[0m \u001b[1;33m\u001b[0m\u001b[0m\n\u001b[0;32m    109\u001b[0m     \u001b[1;32mdef\u001b[0m \u001b[0mregister_hook\u001b[0m\u001b[1;33m(\u001b[0m\u001b[0mself\u001b[0m\u001b[1;33m,\u001b[0m \u001b[0mhook\u001b[0m\u001b[1;33m)\u001b[0m\u001b[1;33m:\u001b[0m\u001b[1;33m\u001b[0m\u001b[0m\n",
            "\u001b[1;32md:\\onedrive\\projects\\aimchess-analytics\\venv\\lib\\site-packages\\torch\\autograd\\__init__.py\u001b[0m in \u001b[0;36mbackward\u001b[1;34m(tensors, grad_tensors, retain_graph, create_graph, grad_variables)\u001b[0m\n\u001b[0;32m     91\u001b[0m     Variable._execution_engine.run_backward(\n\u001b[0;32m     92\u001b[0m         \u001b[0mtensors\u001b[0m\u001b[1;33m,\u001b[0m \u001b[0mgrad_tensors\u001b[0m\u001b[1;33m,\u001b[0m \u001b[0mretain_graph\u001b[0m\u001b[1;33m,\u001b[0m \u001b[0mcreate_graph\u001b[0m\u001b[1;33m,\u001b[0m\u001b[1;33m\u001b[0m\u001b[0m\n\u001b[1;32m---\u003e 93\u001b[1;33m         allow_unreachable\u003dTrue)  # allow_unreachable flag\n\u001b[0m\u001b[0;32m     94\u001b[0m \u001b[1;33m\u001b[0m\u001b[0m\n\u001b[0;32m     95\u001b[0m \u001b[1;33m\u001b[0m\u001b[0m\n",
            "\u001b[1;31mKeyboardInterrupt\u001b[0m: "
          ],
          "ename": "KeyboardInterrupt",
          "evalue": "",
          "output_type": "error"
        }
      ],
      "source": "configs \u003d [\n    (0.5, True, np.arange(1.0, 30.0, 3.0)),\n    (1.0, True, np.arange(1.0, 30.0, 3.0)),\n    (2.0, True, np.arange(1.0, 30.0, 3.0)),\n    (4.0, True, np.arange(1.0, 30.0, 3.0)),\n    (0.5, False, np.arange(1.0, 30.0, 3.0)),\n    (1.0, False, np.arange(1.0, 30.0, 3.0)),\n    (2.0, False, np.arange(1.0, 30.0, 3.0)),\n    (4.0, False, np.arange(1.0, 30.0, 3.0))\n]\n\nbest_model \u003d None\nbest_score \u003d 1.0\n\nfor logloss_coef, ilc, scales in configs:\n    with open(\"mf.pickle\", \"rb\") as f:\n        mf \u003d pickle.load(f)\n    \n    mf.verbose \u003d True\n    mf.epochs \u003d 150\n    mf._build_torch_model(200)\n    mf._train_torch_model(logloss_coef, lr\u003d4e-3, implicit_logloss\u003dilc)\n    \n    mf.user_vectors \u003d mf.model.user_factors.weight.detach().numpy()\n    mf.item_vectors \u003d mf.model.item_factors.weight.detach().numpy()\n    mf.item_proba_vectors \u003d mf.model.item_implicit_factors.weight.detach().numpy()\n    mf._build_gmm(10)\n    \n    for coef in scales:\n        generated \u003d mf.generate(300, False, False, implicit_coef\u003dcoef)\n        score \u003d ks_2samp(list(generated.values()), list(rating_matrix.data)).statistic\n        print(score, logloss_coef, ilc, coef)\n        if score \u003e best_score:\n            best_model \u003d mf\n            score \u003d best_score\n"
    },
    {
      "cell_type": "code",
      "execution_count": null,
      "metadata": {
        "pycharm": {
          "is_executing": true
        }
      },
      "outputs": [],
      "source": "with open(\"mf_trained.pickle\", \"wb\") as f:\n    pickle.dump(best_model, f)\n"
    },
    {
      "cell_type": "code",
      "execution_count": 34,
      "outputs": [],
      "source": "with open(\"mf_trained.pickle\", \"rb\") as f:\n    mf \u003d pickle.load(f)\n",
      "metadata": {
        "pycharm": {
          "metadata": false,
          "name": "#%%\n",
          "is_executing": false
        }
      }
    },
    {
      "cell_type": "code",
      "execution_count": 36,
      "metadata": {
        "pycharm": {
          "is_executing": false,
          "metadata": false,
          "name": "#%%\n"
        },
        "scrolled": true
      },
      "outputs": [
        {
          "data": {
            "text/plain": "\u003cFigure size 432x288 with 1 Axes\u003e",
            "image/png": "[encoded data removed]"
          },
          "metadata": {
            "needs_background": "light"
          },
          "output_type": "display_data"
        }
      ],
      "source": "_ \u003d plt.hist(generated.values())\n"
    },
    {
      "cell_type": "code",
      "execution_count": 37,
      "metadata": {
        "pycharm": {
          "is_executing": false,
          "metadata": false,
          "name": "#%%\n"
        }
      },
      "outputs": [
        {
          "data": {
            "text/plain": "\u003cFigure size 432x288 with 1 Axes\u003e",
            "image/png": "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\u003d\n"
          },
          "metadata": {
            "needs_background": "light"
          },
          "output_type": "display_data"
        }
      ],
      "source": "_ \u003d plt.hist(rating_matrix.data)\n"
    },
    {
      "cell_type": "code",
      "execution_count": 40,
      "outputs": [
        {
          "data": {
            "text/plain": "0.2527556866894799"
          },
          "metadata": {},
          "output_type": "execute_result",
          "execution_count": 40
        }
      ],
      "source": "",
      "metadata": {
        "pycharm": {
          "metadata": false,
          "name": "#%%\n",
          "is_executing": false
        }
      }
    },
    {
      "cell_type": "code",
      "execution_count": 28,
      "metadata": {
        "pycharm": {
          "is_executing": false
        }
      },
      "outputs": [
        {
          "data": {
            "text/plain": "(0.22213314203085036, 0.4006227934467849)"
          },
          "metadata": {},
          "output_type": "execute_result",
          "execution_count": 28
        }
      ],
      "source": "np.mean(list(generated.values())), np.mean(list(rating_matrix.data))"
    },
    {
      "cell_type": "code",
      "execution_count": 25,
      "metadata": {
        "pycharm": {
          "is_executing": false,
          "metadata": false,
          "name": "#%%\n"
        }
      },
      "outputs": [],
      "source": [
        "rating_df \u003d []\n",
        "for ijr in rating_matrix.items():\n",
        "    (i, j), r \u003d ijr\n",
        "    rating_df.append((i, j, r))\n",
        "rating_df \u003d pd.DataFrame(rating_df)\n"
      ]
    },
    {
      "cell_type": "code",
      "execution_count": 26,
      "metadata": {
        "pycharm": {
          "is_executing": false,
          "metadata": false,
          "name": "#%%\n"
        }
      },
      "outputs": [],
      "source": [
        "from surprise import dataset, Reader\n",
        "\n",
        "b \u003d dataset.DatasetAutoFolds(df \u003d rating_df, reader \u003d Reader(rating_scale\u003d(-1.0, 1.0)))\n",
        "ds \u003d b.build_full_trainset()\n"
      ]
    },
    {
      "cell_type": "code",
      "execution_count": 27,
      "metadata": {
        "pycharm": {
          "is_executing": false,
          "metadata": false,
          "name": "#%%\n"
        }
      },
      "outputs": [
        {
          "name": "stderr",
          "output_type": "stream",
          "text": [
            "ERROR:root:Internal Python error in the inspect module.\n",
            "Below is the traceback from this internal error.\n",
            "\n"
          ]
        },
        {
          "name": "stdout",
          "output_type": "stream",
          "text": [
            "Traceback (most recent call last):\n",
            "  File \"d:\\onedrive\\projects\\aimchess-analytics\\venv\\lib\\site-packages\\IPython\\core\\interactiveshell.py\", line 3331, in run_code\n",
            "    exec(code_obj, self.user_global_ns, self.user_ns)\n",
            "  File \"\u003cipython-input-27-b4ec94e7139c\u003e\", line 2, in \u003cmodule\u003e\n",
            "    model \u003d m.fit(ds)\n",
            "  File \"surprise\\prediction_algorithms\\matrix_factorization.pyx\", line 397, in surprise.prediction_algorithms.matrix_factorization.SVDpp.fit\n",
            "  File \"surprise\\prediction_algorithms\\matrix_factorization.pyx\", line 447, in surprise.prediction_algorithms.matrix_factorization.SVDpp.sgd\n",
            "  File \"d:\\onedrive\\projects\\aimchess-analytics\\venv\\lib\\site-packages\\surprise\\trainset.py\", line 189, in all_ratings\n",
            "    yield u, i, r\n",
            "KeyboardInterrupt\n",
            "\n",
            "During handling of the above exception, another exception occurred:\n",
            "\n",
            "Traceback (most recent call last):\n",
            "  File \"d:\\onedrive\\projects\\aimchess-analytics\\venv\\lib\\site-packages\\IPython\\core\\interactiveshell.py\", line 2044, in showtraceback\n",
            "    stb \u003d value._render_traceback_()\n",
            "AttributeError: \u0027KeyboardInterrupt\u0027 object has no attribute \u0027_render_traceback_\u0027\n",
            "\n",
            "During handling of the above exception, another exception occurred:\n",
            "\n",
            "Traceback (most recent call last):\n",
            "  File \"d:\\onedrive\\projects\\aimchess-analytics\\venv\\lib\\site-packages\\IPython\\core\\ultratb.py\", line 1148, in get_records\n",
            "    return _fixed_getinnerframes(etb, number_of_lines_of_context, tb_offset)\n",
            "  File \"d:\\onedrive\\projects\\aimchess-analytics\\venv\\lib\\site-packages\\IPython\\core\\ultratb.py\", line 316, in wrapped\n",
            "    return f(*args, **kwargs)\n",
            "  File \"d:\\onedrive\\projects\\aimchess-analytics\\venv\\lib\\site-packages\\IPython\\core\\ultratb.py\", line 350, in _fixed_getinnerframes\n",
            "    records \u003d fix_frame_records_filenames(inspect.getinnerframes(etb, context))\n",
            "  File \"C:\\Users\\V\\AppData\\Local\\Programs\\Python\\Python36\\lib\\inspect.py\", line 1483, in getinnerframes\n",
            "    frameinfo \u003d (tb.tb_frame,) + getframeinfo(tb, context)\n",
            "  File \"C:\\Users\\V\\AppData\\Local\\Programs\\Python\\Python36\\lib\\inspect.py\", line 1441, in getframeinfo\n",
            "    filename \u003d getsourcefile(frame) or getfile(frame)\n",
            "  File \"C:\\Users\\V\\AppData\\Local\\Programs\\Python\\Python36\\lib\\inspect.py\", line 696, in getsourcefile\n",
            "    if getattr(getmodule(object, filename), \u0027__loader__\u0027, None) is not None:\n",
            "  File \"C:\\Users\\V\\AppData\\Local\\Programs\\Python\\Python36\\lib\\inspect.py\", line 732, in getmodule\n",
            "    for modname, module in list(sys.modules.items()):\n",
            "KeyboardInterrupt\n"
          ]
        },
        {
          "ename": "KeyboardInterrupt",
          "evalue": "",
          "output_type": "error",
          "traceback": [
            "\u001b[1;31m---------------------------------------------------------------------------\u001b[0m"
          ]
        }
      ],
      "source": [
        "m \u003d SVDpp(n_epochs\u003d1)\n",
        "model \u003d m.fit(ds)\n"
      ]
    },
    {
      "cell_type": "code",
      "execution_count": null,
      "metadata": {
        "pycharm": {
          "is_executing": true,
          "metadata": false,
          "name": "#%%\n"
        }
      },
      "outputs": [],
      "source": [
        "model.yj.shape\n"
      ]
    },
    {
      "cell_type": "code",
      "execution_count": null,
      "metadata": {
        "pycharm": {
          "is_executing": true,
          "metadata": false,
          "name": "#%%\n"
        }
      },
      "outputs": [],
      "source": [
        "model.pu.shape\n"
      ]
    },
    {
      "cell_type": "code",
      "execution_count": null,
      "metadata": {
        "pycharm": {
          "is_executing": true,
          "metadata": false,
          "name": "#%%\n"
        }
      },
      "outputs": [],
      "source": [
        "model.qi.shape\n"
      ]
    },
    {
      "cell_type": "code",
      "execution_count": 31,
      "metadata": {
        "pycharm": {
          "is_executing": false,
          "metadata": false,
          "name": "#%%\n"
        }
      },
      "outputs": [],
      "source": [
        "original_dataset \u003d rating_matrix\n",
        "synthetic_dataset \u003d new_matrix\n"
      ]
    },
    {
      "cell_type": "code",
      "execution_count": 93,
      "metadata": {
        "pycharm": {
          "is_executing": false,
          "metadata": false,
          "name": "#%%\n"
        }
      },
      "outputs": [],
      "source": [
        "random_items \u003d np.random.choice(list(range(synthetic_dataset.shape[1])), size\u003d10)\n"
      ]
    },
    {
      "cell_type": "code",
      "execution_count": 33,
      "metadata": {
        "pycharm": {
          "is_executing": false,
          "metadata": false,
          "name": "#%%\n"
        }
      },
      "outputs": [
        {
          "data": {
            "text/plain": [
              "20000263"
            ]
          },
          "execution_count": 33,
          "metadata": {},
          "output_type": "execute_result"
        }
      ],
      "source": [
        "sparsity \u003d len(original_dataset) / original_dataset.shape[0] / original_dataset.shape[1]\n"
      ]
    },
    {
      "cell_type": "code",
      "execution_count": 91,
      "metadata": {
        "pycharm": {
          "is_executing": false,
          "metadata": false,
          "name": "#%%\n"
        }
      },
      "outputs": [],
      "source": [
        "from collections import Counter\n",
        "\n",
        "item_counts \u003d Counter()\n",
        "user_counts \u003d Counter()\n",
        "\n",
        "for (u, v), _ in synthetic_dataset.items():\n",
        "    user_counts[u] +\u003d 1\n",
        "    item_counts[v] +\u003d 1\n",
        "\n",
        "item_counts \u003d np.array([item_counts[i] for i in range(max(item_counts.keys()) + 1)])\n",
        "user_counts \u003d np.array([user_counts[i] for i in range(max(user_counts.keys()) + 1)])\n"
      ]
    },
    {
      "cell_type": "code",
      "execution_count": 81,
      "metadata": {
        "pycharm": {
          "is_executing": false,
          "metadata": false,
          "name": "#%%\n"
        }
      },
      "outputs": [],
      "source": [
        "user_sums \u003d np.array(synthetic_dataset.sum(axis\u003d1))[:, 0]\n",
        "item_sums \u003d np.array(synthetic_dataset.sum(axis\u003d0))[0, :]\n"
      ]
    },
    {
      "cell_type": "code",
      "execution_count": 82,
      "metadata": {
        "pycharm": {
          "is_executing": false,
          "metadata": false,
          "name": "#%%\n"
        }
      },
      "outputs": [
        {
          "data": {
            "text/plain": [
              "(26744,)"
            ]
          },
          "execution_count": 82,
          "metadata": {},
          "output_type": "execute_result"
        }
      ],
      "source": [
        "item_sums.shape\n"
      ]
    },
    {
      "cell_type": "code",
      "execution_count": 83,
      "metadata": {
        "pycharm": {
          "is_executing": false,
          "metadata": false,
          "name": "#%%\n"
        }
      },
      "outputs": [
        {
          "data": {
            "text/plain": [
              "(array([2.656e+04, 1.180e+02, 3.300e+01, 1.100e+01, 8.000e+00, 7.000e+00,\n",
              "        4.000e+00, 0.000e+00, 2.000e+00, 1.000e+00]),\n",
              " array([ 0.        ,  2.86500493,  5.73000987,  8.5950148 , 11.46001973,\n",
              "        14.32502467, 17.1900296 , 20.05503453, 22.92003947, 25.7850444 ,\n",
              "        28.65004933]),\n",
              " \u003ca list of 10 Patch objects\u003e)"
            ]
          },
          "execution_count": 83,
          "metadata": {},
          "output_type": "execute_result"
        },
        {
          "data": {
            "image/png": "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\u003d\u003d\n",
            "text/plain": [
              "\u003cFigure size 432x288 with 1 Axes\u003e"
            ]
          },
          "metadata": {
            "needs_background": "light"
          },
          "output_type": "display_data"
        }
      ],
      "source": [
        "plt.hist(item_sums)\n"
      ]
    },
    {
      "cell_type": "code",
      "execution_count": 84,
      "metadata": {
        "pycharm": {
          "is_executing": false,
          "metadata": false,
          "name": "#%%\n"
        }
      },
      "outputs": [
        {
          "data": {
            "text/plain": [
              "(array([937.,  44.,   6.,   9.,   1.,   1.,   1.,   0.,   0.,   1.]),\n",
              " array([ 0.        ,  9.41464707, 18.82929413, 28.2439412 , 37.65858826,\n",
              "        47.07323533, 56.4878824 , 65.90252946, 75.31717653, 84.7318236 ,\n",
              "        94.14647066]),\n",
              " \u003ca list of 10 Patch objects\u003e)"
            ]
          },
          "execution_count": 84,
          "metadata": {},
          "output_type": "execute_result"
        },
        {
          "data": {
            "image/png": "[encoded data removed]",
            "text/plain": [
              "\u003cFigure size 432x288 with 1 Axes\u003e"
            ]
          },
          "metadata": {
            "needs_background": "light"
          },
          "output_type": "display_data"
        }
      ],
      "source": [
        "plt.hist(user_sums)\n"
      ]
    },
    {
      "cell_type": "code",
      "execution_count": 94,
      "metadata": {
        "pycharm": {
          "is_executing": false,
          "metadata": false,
          "name": "#%%\n"
        }
      },
      "outputs": [
        {
          "name": "stdout",
          "output_type": "stream",
          "text": [
            "[1.54649556e-02            nan 2.59778938e-04 2.19937206e-05\n",
            " 2.59513045e-03            nan 1.09556168e-04 8.76767122e-03\n",
            " 6.58392844e-04 1.50967615e-01]\n"
          ]
        },
        {
          "name": "stderr",
          "output_type": "stream",
          "text": [
            "d:\\onedrive\\projects\\aimchess-analytics\\venv\\lib\\site-packages\\ipykernel_launcher.py:1: RuntimeWarning: invalid value encountered in true_divide\n",
            "  \"\"\"Entry point for launching an IPython kernel.\n"
          ]
        }
      ],
      "source": [
        "item_means_sample \u003d (item_sums / item_counts)[random_items]\n",
        "print(item_means_sample)\n"
      ]
    },
    {
      "cell_type": "code",
      "execution_count": null,
      "metadata": {
        "pycharm": {
          "is_executing": true,
          "metadata": false,
          "name": "#%%\n"
        }
      },
      "outputs": [],
      "source": [
        "item_sums.shape\n"
      ]
    },
    {
      "cell_type": "code",
      "execution_count": null,
      "metadata": {
        "pycharm": {
          "is_executing": true,
          "metadata": false,
          "name": "#%%\n"
        }
      },
      "outputs": [],
      "source": [
        "item_counts.shape\n"
      ]
    },
    {
      "cell_type": "markdown",
      "metadata": {
        "pycharm": {}
      },
      "source": [
        "# NN model"
      ]
    },
    {
      "cell_type": "code",
      "execution_count": 90,
      "metadata": {
        "pycharm": {}
      },
      "outputs": [],
      "source": [
        "from scipy.sparse import dok_matrix, csc_matrix"
      ]
    },
    {
      "cell_type": "code",
      "execution_count": 91,
      "metadata": {
        "pycharm": {}
      },
      "outputs": [],
      "source": [
        "import torch.optim as optim\n",
        "import torch\n",
        "import torch.nn as nn\n",
        "import torch.nn.functional as F"
      ]
    },
    {
      "cell_type": "code",
      "execution_count": 133,
      "metadata": {
        "pycharm": {}
      },
      "outputs": [],
      "source": [
        "class MatrixFactorization(torch.nn.Module):\n",
        "    def __init__(self, n_users, n_items, n_factors\u003d200):\n",
        "        super().__init__()\n",
        "        self.user_factors \u003d torch.nn.Embedding(n_users, n_factors)\n",
        "        self.item_factors \u003d torch.nn.Embedding(n_items, n_factors)\n",
        "        self.item_implicit_factors \u003d torch.nn.Embedding(n_items, n_factors)\n",
        "\n",
        "    def forward(self, user, item):\n",
        "        predicted_ratings \u003d (self.user_factors(user) * self.item_factors(item)).sum(2)\n",
        "        predicted_probas \u003d (self.user_factors(user) * self.item_implicit_factors(item)).sum(2)\n",
        "        predicted_probas \u003d torch.sigmoid(predicted_probas)\n",
        "        return predicted_ratings, predicted_probas"
      ]
    },
    {
      "cell_type": "code",
      "execution_count": 134,
      "metadata": {
        "pycharm": {}
      },
      "outputs": [],
      "source": [
        "model \u003d MatrixFactorization(len(id_to_user), len(id_to_item))"
      ]
    },
    {
      "cell_type": "code",
      "execution_count": 135,
      "metadata": {
        "pycharm": {}
      },
      "outputs": [],
      "source": [
        "#model.user_factors \u003d torch.nn.Embedding(len(id_to_user), 200, _weight \u003d torch.autograd(mf.user_vectors, requires_grad\u003dTrue))\n",
        "model.user_factors \u003d torch.nn.Embedding(len(id_to_user), 200, _weight \u003d torch.FloatTensor(mf.user_vectors))\n",
        "model.item_factors \u003d torch.nn.Embedding(len(id_to_item), 200, _weight \u003d torch.FloatTensor(mf.item_vectors))\n",
        "# model.user_factors.weight \u003d nn.Parameter(t) #torch.FloatTensor(mf.user_vectors))\n",
        "# model.item_factors.weight \u003d nn.Parameter(t2) #torch.FloatTensor(mf.item_vectors))"
      ]
    },
    {
      "cell_type": "markdown",
      "metadata": {
        "pycharm": {}
      },
      "source": [
        "### model.user_factors.weight"
      ]
    },
    {
      "cell_type": "code",
      "execution_count": 136,
      "metadata": {
        "pycharm": {}
      },
      "outputs": [
        {
          "name": "stdout",
          "output_type": "stream",
          "text": [
            "0.030168048209296288\n"
          ]
        }
      ],
      "source": [
        "# Baseline metrics\n",
        "mif \u003d model.item_factors.weight.data.cpu().numpy()\n",
        "muf \u003d model.user_factors.weight.data.cpu().numpy()\n",
        "\n",
        "loss \u003d []\n",
        "for (u, i), r in dok_matrix(rating_matrix).items():\n",
        "    loss.append((muf[u].dot(mif[i]) - r) ** 2)\n",
        "print(np.mean(loss))"
      ]
    },
    {
      "cell_type": "code",
      "execution_count": 137,
      "metadata": {
        "pycharm": {}
      },
      "outputs": [],
      "source": [
        "optimizer \u003d torch.optim.Adam(model.parameters(), lr\u003d1e-3)  # learning rate"
      ]
    },
    {
      "cell_type": "code",
      "execution_count": 138,
      "metadata": {
        "pycharm": {}
      },
      "outputs": [],
      "source": [
        "m2 \u003d dok_matrix(rating_matrix)\n"
      ]
    },
    {
      "cell_type": "code",
      "execution_count": 202,
      "metadata": {
        "pycharm": {},
        "scrolled": true
      },
      "outputs": [
        {
          "name": "stderr",
          "output_type": "stream",
          "text": [
            "d:\\onedrive\\projects\\aimchess-analytics\\venv\\lib\\site-packages\\torch\\nn\\modules\\loss.py:512: UserWarning: Using a target size (torch.Size([256])) that is different to the input size (torch.Size([1, 256])) is deprecated. Please ensure they have the same size.\n",
            "  return F.binary_cross_entropy(input, target, weight\u003dself.weight, reduction\u003dself.reduction)\n"
          ]
        },
        {
          "name": "stdout",
          "output_type": "stream",
          "text": [
            "0.28727314945395666 0.06520082411989\n",
            "0.28850390159219275 0.06609943108135508\n",
            "0.28491302917097666 0.06088983605002022\n",
            "0.28524985795712654 0.055966332289402114\n",
            "0.28731323799483344 0.05645346065210629\n",
            "0.29064240124616914 0.05952502015039666\n",
            "0.28921248835840907 0.06209269390647648\n",
            "0.28747111729538166 0.0627864534675165\n",
            "0.2834225676896918 0.06156456680925748\n",
            "0.28854550045865185 0.0590661207531548\n",
            "0.2839845569458323 0.05776887542494684\n",
            "0.28644775549949886 0.05781591299722213\n",
            "0.2859934131607755 0.058566011393646554\n",
            "0.28586952308662067 0.05876920306841836\n",
            "0.285344339016133 0.05809296635346862\n",
            "0.28550859004183277 0.05760372156139852\n",
            "0.28387018105455936 0.05732966458031543\n",
            "0.2835933088535874 0.057393217312394815\n",
            "0.2827312393877039 0.05685461288834649\n",
            "0.2856720908528369 0.05625276489813667\n",
            "0.2814912675446226 0.0559839932176903\n",
            "0.28207057888877907 0.05611716689537197\n",
            "0.2839245988819132 0.05640370112490715\n",
            "0.2788703298295727 0.056338698809383476\n",
            "0.28008842784863996 0.05601782260732796\n",
            "0.2816597804161732 0.05527082283248883\n",
            "0.28004667602725913 0.0547107680778922\n",
            "0.2787437309669781 0.05448439967067339\n",
            "0.27853766131112895 0.05463987765193896\n",
            "0.27961972848756317 0.054841182936390544\n",
            "0.28088597522967945 0.0547278563162601\n",
            "0.2769985917111996 0.053982916072428076\n",
            "0.2774340883845288 0.05338473774435866\n",
            "0.27736710066937914 0.05329872526076762\n",
            "0.27922454411898556 0.05377766143995084\n",
            "0.28094456253843453 0.053909688192696974\n",
            "0.2757783810449314 0.053523190177351465\n",
            "0.2797585175237583 0.05310431969264385\n",
            "0.2775293761158111 0.052759544028125646\n",
            "0.2774571736198648 0.05255480599293424\n",
            "0.27530046275629644 0.05257542415713991\n",
            "0.2748131995058545 0.05225813901644323\n",
            "0.27052059870109 0.051981907650714615\n",
            "0.27695065202148816 0.05221459186107451\n",
            "0.2712321486750632 0.05237088594159097\n",
            "0.272680481559296 0.05208528137578612\n",
            "0.2723355712061013 0.052017688732262486\n",
            "0.27642195986503254 0.05192862437331798\n",
            "0.27359224664421783 0.05162599352460933\n",
            "0.2713048931296545 0.05115741731139237\n",
            "0.27430193298721434 0.0509903990727572\n",
            "0.27057596658174016 0.05107084350333414\n",
            "0.272691405911482 0.050750546953605334\n",
            "0.26939612744570385 0.0507272615194624\n",
            "0.2753168627164746 0.05082858652445196\n",
            "0.2735371030772309 0.050575790467077233\n",
            "0.27002217184572125 0.05043633438115963\n",
            "0.27259102368931126 0.05070764286107083\n",
            "0.2722777808061386 0.050487541050932186\n",
            "0.2713490257243467 0.050034617474326346\n",
            "0.26906603694189596 0.04952108306435835\n",
            "0.2680424493915252 0.04903712407531781\n",
            "0.265368777737211 0.04933228115278649\n",
            "0.26856053804471597 0.049758240608996106\n",
            "0.272490737869691 0.050116412422167134\n",
            "0.26703163052484885 0.050159165280238366\n"
          ]
        },
        {
          "ename": "KeyboardInterrupt",
          "evalue": "",
          "output_type": "error",
          "traceback": [
            "\u001b[1;31m---------------------------------------------------------------------------\u001b[0m",
            "\u001b[1;31mKeyboardInterrupt\u001b[0m                         Traceback (most recent call last)",
            "\u001b[1;32m\u003cipython-input-202-ee2aa6600f82\u003e\u001b[0m in \u001b[0;36m\u003cmodule\u003e\u001b[1;34m\u001b[0m\n\u001b[0;32m     31\u001b[0m                 \u001b[0mlsum\u001b[0m\u001b[1;33m.\u001b[0m\u001b[0mappend\u001b[0m\u001b[1;33m(\u001b[0m\u001b[0mproba_loss\u001b[0m\u001b[1;33m.\u001b[0m\u001b[0mitem\u001b[0m\u001b[1;33m(\u001b[0m\u001b[1;33m)\u001b[0m\u001b[1;33m)\u001b[0m\u001b[1;33m\u001b[0m\u001b[0m\n\u001b[0;32m     32\u001b[0m \u001b[1;33m\u001b[0m\u001b[0m\n\u001b[1;32m---\u003e 33\u001b[1;33m                 \u001b[0mloss\u001b[0m\u001b[1;33m.\u001b[0m\u001b[0mbackward\u001b[0m\u001b[1;33m(\u001b[0m\u001b[1;33m)\u001b[0m\u001b[1;33m\u001b[0m\u001b[0m\n\u001b[0m\u001b[0;32m     34\u001b[0m                 \u001b[0moptimizer\u001b[0m\u001b[1;33m.\u001b[0m\u001b[0mstep\u001b[0m\u001b[1;33m(\u001b[0m\u001b[1;33m)\u001b[0m\u001b[1;33m\u001b[0m\u001b[0m\n\u001b[0;32m     35\u001b[0m             \u001b[0mbatch_u\u001b[0m \u001b[1;33m\u003d\u001b[0m \u001b[1;33m[\u001b[0m\u001b[1;33m]\u001b[0m\u001b[1;33m\u001b[0m\u001b[0m\n",
            "\u001b[1;32md:\\onedrive\\projects\\aimchess-analytics\\venv\\lib\\site-packages\\torch\\tensor.py\u001b[0m in \u001b[0;36mbackward\u001b[1;34m(self, gradient, retain_graph, create_graph)\u001b[0m\n\u001b[0;32m    105\u001b[0m                 \u001b[0mproducts\u001b[0m\u001b[1;33m.\u001b[0m \u001b[0mDefaults\u001b[0m \u001b[0mto\u001b[0m\u001b[0;31m \u001b[0m\u001b[0;31m`\u001b[0m\u001b[0;31m`\u001b[0m\u001b[1;32mFalse\u001b[0m\u001b[0;31m`\u001b[0m\u001b[0;31m`\u001b[0m\u001b[1;33m.\u001b[0m\u001b[1;33m\u001b[0m\u001b[0m\n\u001b[0;32m    106\u001b[0m         \"\"\"\n\u001b[1;32m--\u003e 107\u001b[1;33m         \u001b[0mtorch\u001b[0m\u001b[1;33m.\u001b[0m\u001b[0mautograd\u001b[0m\u001b[1;33m.\u001b[0m\u001b[0mbackward\u001b[0m\u001b[1;33m(\u001b[0m\u001b[0mself\u001b[0m\u001b[1;33m,\u001b[0m \u001b[0mgradient\u001b[0m\u001b[1;33m,\u001b[0m \u001b[0mretain_graph\u001b[0m\u001b[1;33m,\u001b[0m \u001b[0mcreate_graph\u001b[0m\u001b[1;33m)\u001b[0m\u001b[1;33m\u001b[0m\u001b[0m\n\u001b[0m\u001b[0;32m    108\u001b[0m \u001b[1;33m\u001b[0m\u001b[0m\n\u001b[0;32m    109\u001b[0m     \u001b[1;32mdef\u001b[0m \u001b[0mregister_hook\u001b[0m\u001b[1;33m(\u001b[0m\u001b[0mself\u001b[0m\u001b[1;33m,\u001b[0m \u001b[0mhook\u001b[0m\u001b[1;33m)\u001b[0m\u001b[1;33m:\u001b[0m\u001b[1;33m\u001b[0m\u001b[0m\n",
            "\u001b[1;32md:\\onedrive\\projects\\aimchess-analytics\\venv\\lib\\site-packages\\torch\\autograd\\__init__.py\u001b[0m in \u001b[0;36mbackward\u001b[1;34m(tensors, grad_tensors, retain_graph, create_graph, grad_variables)\u001b[0m\n\u001b[0;32m     91\u001b[0m     Variable._execution_engine.run_backward(\n\u001b[0;32m     92\u001b[0m         \u001b[0mtensors\u001b[0m\u001b[1;33m,\u001b[0m \u001b[0mgrad_tensors\u001b[0m\u001b[1;33m,\u001b[0m \u001b[0mretain_graph\u001b[0m\u001b[1;33m,\u001b[0m \u001b[0mcreate_graph\u001b[0m\u001b[1;33m,\u001b[0m\u001b[1;33m\u001b[0m\u001b[0m\n\u001b[1;32m---\u003e 93\u001b[1;33m         allow_unreachable\u003dTrue)  # allow_unreachable flag\n\u001b[0m\u001b[0;32m     94\u001b[0m \u001b[1;33m\u001b[0m\u001b[0m\n\u001b[0;32m     95\u001b[0m \u001b[1;33m\u001b[0m\u001b[0m\n",
            "\u001b[1;31mKeyboardInterrupt\u001b[0m: "
          ]
        }
      ],
      "source": [
        "lsum, lsum2 \u003d [], []\n",
        "crossentropy \u003d torch.nn.BCELoss()\n",
        "\n",
        "for _ in range(200):\n",
        "    for j, ((u, i), r) in enumerate(m2.items()):\n",
        "        if (j % 256 \u003d\u003d 0) or (j \u003d\u003d len(m2.items())):\n",
        "            if j \u003e 0:\n",
        "                optimizer.zero_grad()\n",
        "\n",
        "                rating \u003d torch.FloatTensor([batch_r])\n",
        "                u_tensor \u003d torch.LongTensor([batch_u])\n",
        "                i_tensor \u003d torch.LongTensor([batch_i])\n",
        "                ones_tensor \u003d torch.FloatTensor([1.0] * len(batch_i))\n",
        "\n",
        "                batch_unrated_items \u003d [np.random.randint(0, len(id_to_item)) for _ in range(len(batch_u))]\n",
        "                batch_unrated_items_tensor \u003d torch.LongTensor(batch_unrated_items)\n",
        "                zeroes_tensor \u003d torch.FloatTensor([0.0] * len(batch_i))\n",
        "                \n",
        "                predicted_ratings, rated_items_proba  \u003d model(u_tensor, i_tensor)\n",
        "                _, unrated_items_proba  \u003d model(u_tensor, batch_unrated_items_tensor)\n",
        "                \n",
        "                proba_loss \u003d (\n",
        "                    crossentropy(rated_items_proba, ones_tensor) +\n",
        "                    crossentropy(unrated_items_proba, zeroes_tensor)\n",
        "                )\n",
        "                rating_loss \u003d ((rating - predicted_ratings) * (rating - predicted_ratings)).mean()\n",
        "                \n",
        "                loss \u003d rating_loss + proba_loss * 2.0\n",
        "                \n",
        "                lsum2.append(rating_loss.item())\n",
        "                lsum.append(proba_loss.item())\n",
        "\n",
        "                loss.backward()\n",
        "                optimizer.step()\n",
        "            batch_u \u003d []\n",
        "            batch_i \u003d []\n",
        "            batch_r \u003d []\n",
        "\n",
        "        batch_u.append(u)\n",
        "        batch_r.append(r)\n",
        "        batch_i.append(i)\n",
        "\n",
        "    print(np.mean(lsum), np.mean(lsum2))\n",
        "    lsum, lsum2 \u003d [], []"
      ]
    },
    {
      "cell_type": "code",
      "execution_count": 203,
      "metadata": {
        "pycharm": {}
      },
      "outputs": [
        {
          "name": "stdout",
          "output_type": "stream",
          "text": [
            "0.04764193337170719\n"
          ]
        }
      ],
      "source": [
        "# Baseline metrics\n",
        "mif \u003d model.item_factors.weight.data.cpu().numpy()\n",
        "miif \u003d model.item_implicit_factors.weight.data.cpu().numpy()\n",
        "muf \u003d model.user_factors.weight.data.cpu().numpy()\n",
        "\n",
        "loss \u003d []\n",
        "for (u, i), r in dok_matrix(rating_matrix).items():\n",
        "    loss.append((muf[u].dot(mif[i]) - r) ** 2)\n",
        "print(np.mean(loss))"
      ]
    },
    {
      "cell_type": "code",
      "execution_count": 204,
      "metadata": {
        "pycharm": {},
        "scrolled": false
      },
      "outputs": [
        {
          "data": {
            "text/plain": [
              "\u003cmatplotlib.legend.Legend at 0x1f8d5afe940\u003e"
            ]
          },
          "execution_count": 204,
          "metadata": {},
          "output_type": "execute_result"
        },
        {
          "data": {
            "image/png": "iVBORw0KGgoAAAANSUhEUgAAAXcAAAEGCAYAAACevtWaAAAABHNCSVQICAgIfAhkiAAAAAlwSFlzAAALEgAACxIB0t1+/AAAADh0RVh0U29mdHdhcmUAbWF0cGxvdGxpYiB2ZXJzaW9uMy4yLjEsIGh0dHA6Ly9tYXRwbG90bGliLm9yZy+j8jraAAAeZUlEQVR4nO3de5hU1Znv8e9PRdqoT5SLHgSTZgyGoHAQW6KRY9QYQCUBo0aMt1yUmGgmmvEYTCZncJQcZBQdZBJD4gXzjBCOQiSSi4IQo1ERFZWLFwhEOnC0xQFFDyjNe/6o3aSgq7qru6u6unb/Ps9TT+1ae+1d714Ub61ee+9VigjMzCxd9ip3AGZmVnxO7mZmKeTkbmaWQk7uZmYp5ORuZpZC+5Q7AIAePXpEdXV1ucMwM6sozz777FsR0TPXug6R3Kurq1m6dGm5wzAzqyiS/ppvnYdlzMxSyMndzCyFnNzNzFKoQ4y55/Lhhx9SW1vLtm3byh2KpVBVVRV9+vShS5cu5Q7FrCQ6bHKvra3lwAMPpLq6GknlDsdSJCLYtGkTtbW19O3bt9zhmJVEhx2W2bZtG927d3dit6KTRPfu3f1XoaVas8ldUpWkJZJekLRC0vVJ+QRJf5O0LHmckbXNdZJWS3pF0ojWBufEbqXiz5alXSHDMtuBUyNiq6QuwOOSfpesuzUibs6uLGkAMBY4CjgMWCDpyIioL2bgZmaWX7PJPTITvm9NXnZJHk1NAj8amBUR24G1klYDQ4En2xJo9fj5bdm8kXWTziyo3ty5c/nSl77EqlWr6N+/P+vWrWPUqFEsX76cxYsXc/PNN/PQQw8VNTYzs7YqaMxd0t6SlgFvAo9ExNPJqislvSjpLkkHJ2W9gfVZm9cmZXvuc5ykpZKW1tXVteEQSmvmzJkMGzaMWbNmlTsUq0DV4+fvepi1p4KSe0TUR8RgoA8wVNLRwE+BI4DBwEbglqR6rsHMRj39iJgeETURUdOzZ86pEcpu69atPPHEE9x5551O7mZWUVp0tUxEbAYWAyMj4o0k6e8Efk5m6AUyPfXDszbrA2woQqzt7te//jUjR47kyCOPpFu3bjz33HPlDsnMrCCFXC3TU9JByfJ+wGnAy5J6ZVU7C1ieLM8DxkrqKqkv0A9YUtyw28fMmTMZO3YsAGPHjmXmzJlljsjMrDCFXC3TC5ghaW8yXwazI+IhSb+UNJjMkMs64JsAEbFC0mxgJbADuKISr5TZtGkTjz76KMuXL0cS9fX1SOLb3/52uUOzDih7TL3Qk/VmpVTI1TIvAsfkKL+oiW0mAhPbFlp53X///Vx88cX87Gc/21X22c9+ltra2jJGZWZWmA47/cCe2rs3NHPmTMaPH79b2dlnn82Pf/zjdo3DzKw1lLmMvbxqampizx/rWLVqFZ/61KfKFJF1BsX8jBVyqaOHa6zYJD0bETW51nXYuWXMzKz1nNzNzFLIyd3MLIWc3M3MUsjJ3cwshZzczcxSqGKuc2fCR4u8vy0FVdtzyt+m3HbbbYwbN46PfOQjrQrpnnvuYenSpUybNo0JEyZwwAEHcM0117RqX01py1TFrTnGfO+3dOlS7r33XqZOncrixYvZd999+cxnPtPimMysMffcm9GSKX9vu+023n///XaIqnyKeYw1NTVMnToVyHwB/PnPfy7Kfs3Myb1J+ab8ra+v55prrmHgwIEMGjSI22+/nalTp7JhwwZOOeUUTjnlFAAOOOCAXdvcf//9fPWrXwXgN7/5DZ/+9Kc55phjOO2003jjjTfyxrBmzRqGDBmy6/Vrr73Gscce26je1KlTGTBgAIMGDdo12dl7773H17/+dY477jiOOeYYHnzwwUbb5atT6DE+/PDDnHDCCQwZMoRzzz2XrVszv+vy+9//nv79+zNs2DDmzJmT89gWL17MqFGjWLduHXfccQe33norgwcP5k9/+hN1dXWcffbZHHfccRx33HE88cQTAEyYMIFLLrmE4cOHU11dzZw5c7j22msZOHAgI0eO5MMPPwRg/Pjxu9qjFH/9mHV0lTMsUwa5pvwdMmQI06dPZ+3atTz//PPss88+vP3223Tr1o0pU6awaNEievTo0eR+hw0bxlNPPYUkfvGLXzB58mRuueWWnHWPOOIIPvrRj7Js2TIGDx7M3XffvetLItukSZNYu3YtXbt2ZfPmzQBMnDiRU089lbvuuovNmzczdOhQTjvttN22y1fn3nvvbfYY33rrLW688UYWLFjA/vvvz0033cSUKVO49tprueyyy3j00Uf5xCc+wXnnnddke1RXV3P55ZfvNgz1la98hauvvpphw4bx+uuvM2LECFatWgVkvvAWLVrEypUrOeGEE3jggQeYPHkyZ511FvPnz+ekk05i7ty5vPzyy0ja1R5mnYmTexNmzpzJVVddBfx9yt8hQ4awYMECLr/8cvbZJ9N83bp1a9F+a2trOe+889i4cSMffPABffv2bbL+pZdeyt13382UKVP41a9+xZIljWdQHjRoEBdccAFjxoxhzJgxQKZXPW/ePG6+OfMzt9u2beP111/fbbt8dQo5xqeeeoqVK1dy4oknAvDBBx9wwgkn8PLLL9O3b1/69esHwIUXXsj06dNb0kQsWLCAlStX7nr9zjvv8O677wJw+umn06VLFwYOHEh9fT0jR44EYODAgbt+BrGqqopLL72UM888k1GjRrXovc3SwMk9j3xT/k6ePJmIQMr1g1O7y66zbdu2Xcvf+c53+N73vscXv/hFFi9ezIQJE5rcz9lnn83111/PqaeeyrHHHkv37t0b1Zk/fz6PPfYY8+bN44YbbmDFihVEBA888ACf/OQnd6ubPQyUr04hxxgRfP7zn280z/2yZcsKap+m7Ny5kyeffJL99tuv0bquXbsCsNdee9GlS5dd77XXXnuxY8cO9tlnH5YsWcLChQuZNWsW06ZN49FHH21TPGaVxmPueTRM+fvXv/6VdevWsX79evr27cvjjz/O8OHDueOOO9ixYwcAb7/9NgAHHnjgrt4lwKGHHsqqVavYuXMnc+fO3VW+ZcsWevfO/KzsjBkzmo2lqqqKESNG8K1vfYuvfe1rjdbv3LmT9evXc8oppzB58mQ2b97M1q1bGTFiBLfffjsNk8M9//zzjbbNV6eQYzz++ON54oknWL16NQDvv/8+r776Kv3792ft2rWsWbMGoKAfOdmz7YYPH860adN2vV62bFmz+2iwdetWtmzZwhlnnMFtt93Wom3N0qJyeu4FXrpYLPmm/L3vvvu4/fbbefXVVxk0aBBdunThsssu48orr2TcuHGcfvrp9OrVi0WLFjFp0iRGjRrF4YcfztFHH73rZOOECRM499xz6d27N8cffzxr165tNp4LLriAOXPmMHz48Ebr6uvrufDCC9myZQsRwdVXX81BBx3Ej370I6666ioGDRpERFBdXd3ocsR8dS699NKCjvGee+7h/PPPZ/v27QDceOONHHnkkUyfPp0zzzyTHj16MGzYMJYvX94o7mxf+MIXOOecc3jwwQd3nby94oorGDRoEDt27OCkk07ijjvuaLadAN59911Gjx7Ntm3biAhuvfXWgrYzSxNP+Vshbr75ZrZs2cINN9xQ7lBSw1P+WqVrasrfyum5d2JnnXUWa9as8bixmRXMyb0CZI/Xm5kVokOfUO0IQ0aWTv5sWdo1m9wlVUlaIukFSSskXZ+Ud5P0iKTXkueDs7a5TtJqSa9IGtGawKqqqti0aZP/E1rRRQSbNm2iqqqq3KEAmfH6hodZsRQyLLMdODUitkrqAjwu6XfAl4CFETFJ0nhgPPB9SQOAscBRwGHAAklHRkR9SwLr06cPtbW11NXVteiAzApRVVVFnz59yh2GWck0m9wj03XemrzskjwCGA2cnJTPABYD30/KZ0XEdmCtpNXAUODJlgTWpUuXZu/cNDOz3Ao6oSppb+BZ4BPAf0TE05IOjYiNABGxUdIhSfXewFNZm9cmZXvucxwwDuBjH/tY64/ArASyh0h8CaNVooKSezKkMljSQcBcSUc3UT3XfeeNBs4jYjowHTLXuRcSh1kl8xeGtacWXS0TEZvJDL+MBN6Q1AsgeX4zqVYLHJ61WR9gQ5sjNTOzgjXbc5fUE/gwIjZL2g84DbgJmAdcAkxKnhsmC58H3CdpCpkTqv2AxtMYmlU4X91iHVkhwzK9gBnJuPtewOyIeEjSk8BsSd8AXgfOBYiIFZJmAyuBHcAVLb1SxqwcnKwtTQq5WuZF4Jgc5ZuAz+XZZiIwsc3RmZlZq3j6AbNm+ESoVaIOPf2AmZm1jpO7mVkKObmbmaWQk7uZWQr5hKpZBfBJXWsp99zNzFLIPXezFvCNTlYpnNzNysBfElZqHpYxM0shJ3czsxRycjczSyEndzOzFPIJVbMOxNezW7G4525mlkLuuZt1UPkul3Tv3grhnruZWQo5uZuZpZCTu5lZCjm5m5mlkJO7mVkKNZvcJR0uaZGkVZJWSPpuUj5B0t8kLUseZ2Rtc52k1ZJekTSilAdgZmaNFXIp5A7gnyLiOUkHAs9KeiRZd2tE3JxdWdIAYCxwFHAYsEDSkRFRX8zAzcwsv2aTe0RsBDYmy+9KWgX0bmKT0cCsiNgOrJW0GhgKPFmEeM2KylPvWlq1aMxdUjVwDPB0UnSlpBcl3SXp4KSsN7A+a7NacnwZSBonaamkpXV1dS0O3MzM8is4uUs6AHgAuCoi3gF+ChwBDCbTs7+loWqOzaNRQcT0iKiJiJqePXu2OHAzM8uvoOkHJHUhk9j/MyLmAETEG1nrfw48lLysBQ7P2rwPsKEo0ZoVgYdirDMo5GoZAXcCqyJiSlZ5r6xqZwHLk+V5wFhJXSX1BfoBS4oXspmZNaeQnvuJwEXAS5KWJWU/AM6XNJjMkMs64JsAEbFC0mxgJZkrba7wlTJmZu2rkKtlHif3OPpvm9hmIjCxDXGZmVkb+A5VM7MUcnI3M0shJ3czsxRycjczSyEndzOzFPJvqFqn4BuXrLNxz93MLIWc3M3MUsjJ3cwshTzmbqmRPa6+btKZZYzErPzcczczSyEndzOzFPKwjFlKeFjKsjm5m1UwX79v+XhYxswshZzczcxSyMndzCyFnNzNzFLIJ1QtlXyi0To799zNzFKo2eQu6XBJiyStkrRC0neT8m6SHpH0WvJ8cNY210laLekVSSNKeQBmZtZYIT33HcA/RcSngOOBKyQNAMYDCyOiH7AweU2ybixwFDAS+ImkvUsRvJmZ5dbsmHtEbAQ2JsvvSloF9AZGAycn1WYAi4HvJ+WzImI7sFbSamAo8GSxgzez3Hy3qrVozF1SNXAM8DRwaJL4G74ADkmq9QbWZ21Wm5Ttua9xkpZKWlpXV9fyyM3MLK+Ck7ukA4AHgKsi4p2mquYoi0YFEdMjoiYianr27FloGGZmVoCCkrukLmQS+39GxJyk+A1JvZL1vYA3k/Ja4PCszfsAG4oTrpmZFaLZMXdJAu4EVkXElKxV84BLgEnJ84NZ5fdJmgIcBvQDlhQzaOvcPJ5s1rxCbmI6EbgIeEnSsqTsB2SS+mxJ3wBeB84FiIgVkmYDK8lcaXNFRNQXPXIzM8urkKtlHif3ODrA5/JsMxGY2Ia4zMysDXyHqplZCjm5m5mlkJO7mVkKObmbmaWQk7uZWQo5uZuZpZB/rMMqmn+Uwyw399zNzFLIyd3MLIWc3M3MUshj7madyJ7nKDzxWnq5525mlkJO7mZmKeTkbmaWQk7uZmYp5ORuZpZCTu5mZink5G5mlkJO7mZmKeTkbmaWQk7uZmYp1Oz0A5LuAkYBb0bE0UnZBOAyoC6p9oOI+G2y7jrgG0A98I8R8YcSxG1mBfK0yJ1TIT33e4CROcpvjYjByaMhsQ8AxgJHJdv8RNLexQrWzMwK02zPPSIek1Rd4P5GA7MiYjuwVtJqYCjwZKsjtE4ru8fpCa7MWqYtY+5XSnpR0l2SDk7KegPrs+rUJmWNSBonaamkpXV1dbmqmJlZK7U2uf8UOAIYDGwEbknKlaNu5NpBREyPiJqIqOnZs2crwzAzs1xaNZ97RLzRsCzp58BDycta4PCsqn2ADa2Ozjodn/wzK45W9dwl9cp6eRawPFmeB4yV1FVSX6AfsKRtIZqZWUsVcinkTOBkoIekWuBfgJMlDSYz5LIO+CZARKyQNBtYCewAroiI+tKEbp2Je/RmLVPI1TLn5yi+s4n6E4GJbQnKzMzaxneompmlkH8g26wT870E6eXkbmXn8XSz4vOwjJlZCrnnbmXh3rpZabnnbmaWQu65m1kjPtFa+dxzNzNLISd3M7MUcnI3M0shJ3czsxTyCVUzA3x5atq4525mlkJO7mZmKeRhGWs3/rPfrP24525mlkJO7mZmKeTkbmaWQk7uZmYp5BOqVlI+iWpWHs323CXdJelNScuzyrpJekTSa8nzwVnrrpO0WtIrkkaUKnAzM8uvkGGZe4CRe5SNBxZGRD9gYfIaSQOAscBRyTY/kbR30aI1s3ZXPX7+rodVjmaTe0Q8Bry9R/FoYEayPAMYk1U+KyK2R8RaYDUwtEixmplZgVp7QvXQiNgIkDwfkpT3BtZn1atNyszMrB0V+2oZ5SiLnBWlcZKWSlpaV1dX5DDMzDq31ib3NyT1Akie30zKa4HDs+r1ATbk2kFETI+Imoio6dmzZyvDMDOzXFqb3OcBlyTLlwAPZpWPldRVUl+gH7CkbSGamVlLNXudu6SZwMlAD0m1wL8Ak4DZkr4BvA6cCxARKyTNBlYCO4ArIqK+RLGbmVkezSb3iDg/z6rP5ak/EZjYlqCssvmSObPy8/QDZmYp5ORuZpZCnlvGzAqWPeS2btKZZYzEmuOeu5lZCjm5m5mlkJO7mVkKObmbmaWQk7uZWQr5ahlrNV85YdZxueduZpZCTu5mZinkYRlrEc8bYw08LNexueduZpZC7rmbWVG5R98xuOduZpZC7rlbUXgs3qxjcc/dzCyF3HM3szbzX24dj3vuZmYp5ORuZpZCTu5mZinUpjF3SeuAd4F6YEdE1EjqBvwKqAbWAV+OiP9qW5hmZtYSxei5nxIRgyOiJnk9HlgYEf2AhclrMzNrR6UYlhkNzEiWZwBjSvAeZmbWhLYm9wAelvSspHFJ2aERsREgeT4k14aSxklaKmlpXV1dG8MwM7Nsbb3O/cSI2CDpEOARSS8XumFETAemA9TU1EQb47AS8jXM1lqeZ6Z82pTcI2JD8vympLnAUOANSb0iYqOkXsCbRYizU/J/DDNrrVYPy0jaX9KBDcvAcGA5MA+4JKl2CfBgW4M0M7OWaUvP/VBgrqSG/dwXEb+X9AwwW9I3gNeBc9seZufhIRAzK4ZWJ/eI+Avw33OUbwI+15agrDEP0ZhZS3jisA5mXdVXdi1Xb7uvjJGYWSVzcu/AnOjNrLWc3CvcnmP0HrKxjirf+SR/ZkvDyd3MOgyfWyoeJ/cKkT1Ew4SG5y3lCMWsqHyFWGk4udsu/k9mlh6ez72CORmbWT5O7mZmKeTkbmaWQh5z7+Q8tGOWTk7unZATuln6Obl3ALtd21tV+Ha57mDNd52wE7pZ5+LkbmYdnm9uajmfUDUzSyH33DuA3e4+LcI+PMmYmTm5p5jH2a2S+fPbNh6WMTNLIffczayi+ORqYZzcU8jj72bm5N6O3OMws/bi5F5iu9+glNWjHn9fVnm7hmTWqXTWTlXJkrukkcC/A3sDv4iISaV6r46m0U/fFeFSRzNrrC1X1KQ96ZckuUvaG/gP4PNALfCMpHkRsbIU79cRNZfQnfDNKkOlfgmUquc+FFgdEX8BkDQLGA2UJLkXq/Eb9rMr8SY/Y1c9fn7+ZJyjTkcaZskXt0+0WmeUr6dfqmvqC5nrqVRfGIqI4u9UOgcYGRGXJq8vAj4dEVdm1RkHjEtefhJ4peiBNK8H8FYZ3rdSuH2a5vbJz23TtGK1z8cjomeuFaXquStH2W7fIhExHZheovcviKSlEVFTzhg6MrdP09w++bltmtYe7VOqO1RrgcOzXvcBNpTovczMbA+lSu7PAP0k9ZW0LzAWmFei9zIzsz2UZFgmInZIuhL4A5lLIe+KiBWleK82KuuwUAVw+zTN7ZOf26ZpJW+fkpxQNTOz8vKskGZmKeTkbmaWQqlJ7pK6SXpE0mvJ88F56o2U9Iqk1ZLGF7K9pOuS+q9IGpFVPlHSeklbS3t0rZPvWLPWS9LUZP2LkoY0t21r2qmjas/2kdRd0iJJWyVNa58jbL12bpvPS3pW0kvJ86ntc5St187tM1TSsuTxgqSzCgoyIlLxACYD45Pl8cBNOersDawB/gHYF3gBGNDU9sCApF5XoG+y/d7JuuOBXsDWch9/S441q84ZwO/I3JdwPPB0KdqpIz7K0D77A8OAy4Fp5T7+DtY2xwCHJctHA38rdxt0sPb5CLBPstwLeLPhdVOP1PTcyUxvMCNZngGMyVFn17QIEfEB0DAtQlPbjwZmRcT2iFgLrE72Q0Q8FREbi34kxdHUsTYYDdwbGU8BB0nq1cy2LW6nDqpd2yci3ouIx4FtJT2q4mjvtnk+Ihrug1kBVEnqWqqDK4L2bp/3I2JHUl7FHjeE5pOm5H5oQ6JNng/JUac3sD7rdW1S1tT2TW3TkRUSd746naGd2rt9Kkk52+Zs4PmI2N7q6Euv3dtH0qclrQBeAi7PSvZ5VdR87pIWAP8tx6ofFrqLHGXNfQu2ZpuOoJC489XpDO3U3u1TScrSNpKOAm4ChhdSv4zavX0i4mngKEmfAmZI+l1ENPlXYEUl94g4Ld86SW9I6hURG5M/f97MUa2paRHybV+pUykUEne+Ovs2sW1a2qm926eStHvbSOoDzAUujog1RTmK0inbZyciVkl6j8y5iaVNBZmmYZl5wCXJ8iXAgznqNDUtQr7t5wFjJXWV1BfoBywpQfzFVsgUEPOAi5Mz+8cDW5I/BztDO7V3+1SSdm0bSQcB84HrIuKJUh5YkbR3+/SVtE+y/HEys+iuazbKcp95LtYD6A4sBF5Lnrsl5YcBv82qdwbwKpkz1j9sbvtk3Q+T+q8Ap2eVTybzDb0zeZ5Q7nbYo00aHSuZqzUuT5ZF5kdV1pAZy6spRTt11EcZ2mcd8DawNfm8DCj1MVZC2wD/DLwHLMt6HFLuNuhA7XMRmRPNy4DngDGFxOjpB8zMUihNwzJmZpZwcjczSyEndzOzFHJyNzNLISd3M7MUcnK3klEyW6akaklfKXc88PeYWrHdGEkDsl7/q6S8N9W1YL8nS3qoDdv/OXnuMG1sHYOTu7WHaqDSE88YMjNfAhAR/ysiFpQxnoY4PpMsVlP5bWxF5ORu7WES8D+S+aivlrS3pH+T9Ewy1/U3YVcv9o+SZkt6VdIkSRdIWqLMXN9H7LljSZ/Nmuv6eUkHJuX/M2v/1+cKKl8dSRcnZS9I+qWkzwBfBP4teZ8jJN0j6Zyk/ueS935J0l1KZjSUtE7S9ZKeS9b1b6qRlJnP+9fJez8laVBS3lOZ+b2fk/QzSX+V1CNZ1/CXyJ5tfFTSbsuS/fVr0b+YVb5y3+nlR3ofJPPcAycDD2WVjwP+OVnuSmaOjL5Jvc1k5qzuCvwNuD6p913gthzv8RvgxGT5ADLzJQ0n8wPEItOBeQg4aY+YctYBjiJzh22PpF7DXYL3AOdkve89wDlkpmBdDxyZlN8LXJUsrwO+kyx/G/hFjvh3tQ1wO/AvyfKpwLJkeRqZW/MBRpKZaKpHM218O3BBsrwvsF+5Pw9+tO/DPXcrh+Fk5t1YBjxN5rbrhp7lMxGxMTJTvq4BHk7KXyIz9LCnJ4Apkv4ROCgyU6EOTx7Pk7ldu3/W/rNjyFXnVOD+iHgLICLebuZYPgmsjYhXk9czyHxJNJiTPD+bJ/5sw4BfJu/7KNBd0keT8llJ+e+B/2pmPwBPAj+Q9H3g4xHx/wrYxlKkomaFtNQQmR7tH3YrlE4Gsufx3pn1eic5Pq8RMUnSfDLzdTyVnOQU8L8j4mfNxNCoTvIl0ZI5OXJN4ZqtIf56mv//1pJpYpsUEfdJeho4E/iDpEuTLwzrJNxzt/bwLnBg1us/AN+S1AVA0pGS9m/NjiUdEREvRcRNZIZ3+if7/7qkA5I6vSXt+cMQ+eosBL4sqXtS3i3PMTR4GaiW9Ink9UXAH1tzLMBjwAXJ+54MvBUR7wCPA19OyocDuX4feLf4JP0D8JeImEpmtsFBrYzJKpR77tYeXgR2SHqBzFj1v5MZonhOkoA6cv8sYiGuknQKmZ7xSuB3EbFdmR81eDKze7YCF5I1P3ZEPJyrTkSskDQR+KOkejLDNl8lMyzy86Rnf07WfrZJ+hrwf5JpWZ8B7mjlsUwA7pb0IvA+f5/+9XpgpqTzyHxxbCSTzLPt2cZVwIWSPgT+L/CvrYzJKpRnhTTr4JKrb+ojYoekE4CfRsTgcsdlHZt77mYd38eA2ZL2Aj4ALitzPFYB3HM3M0shn1A1M0shJ3czsxRycjczSyEndzOzFHJyNzNLof8PSq+1DwYhFnMAAAAASUVORK5CYII\u003d\n",
            "text/plain": [
              "\u003cFigure size 432x288 with 1 Axes\u003e"
            ]
          },
          "metadata": {
            "needs_background": "light"
          },
          "output_type": "display_data"
        }
      ],
      "source": [
        "u \u003d 0\n",
        "rated_items \u003d mf.ratings[u, :].nonzero()[1]\n",
        "\n",
        "probas \u003d np.dot(miif, muf[u, :])\n",
        "probas \u003d probas / np.sum(probas)\n",
        "\n",
        "plt.hist(probas, bins\u003d100, label\u003d\"All\")\n",
        "plt.hist(probas[rated_items], label\u003d\"Actually selected items\", bins\u003d20)\n",
        "plt.xlabel(\"Item selection logits\")\n",
        "plt.legend()"
      ]
    },
    {
      "cell_type": "code",
      "execution_count": 205,
      "metadata": {
        "pycharm": {}
      },
      "outputs": [
        {
          "ename": "ValueError",
          "evalue": "probabilities are not non-negative",
          "output_type": "error",
          "traceback": [
            "\u001b[1;31m---------------------------------------------------------------------------\u001b[0m",
            "\u001b[1;31mValueError\u001b[0m                                Traceback (most recent call last)",
            "\u001b[1;32m\u003cipython-input-205-50b49af1ddb8\u003e\u001b[0m in \u001b[0;36m\u003cmodule\u003e\u001b[1;34m\u001b[0m\n\u001b[1;32m----\u003e 1\u001b[1;33m \u001b[0msampled_items\u001b[0m \u001b[1;33m\u003d\u001b[0m \u001b[0mnp\u001b[0m\u001b[1;33m.\u001b[0m\u001b[0mrandom\u001b[0m\u001b[1;33m.\u001b[0m\u001b[0mchoice\u001b[0m\u001b[1;33m(\u001b[0m\u001b[0mlist\u001b[0m\u001b[1;33m(\u001b[0m\u001b[0mrange\u001b[0m\u001b[1;33m(\u001b[0m\u001b[0mlen\u001b[0m\u001b[1;33m(\u001b[0m\u001b[0mprobas\u001b[0m\u001b[1;33m)\u001b[0m\u001b[1;33m)\u001b[0m\u001b[1;33m)\u001b[0m\u001b[1;33m,\u001b[0m \u001b[1;36m100\u001b[0m\u001b[1;33m,\u001b[0m \u001b[1;32mFalse\u001b[0m\u001b[1;33m,\u001b[0m \u001b[0mp\u001b[0m\u001b[1;33m\u003d\u001b[0m\u001b[0mprobas\u001b[0m\u001b[1;33m)\u001b[0m\u001b[1;33m\u001b[0m\u001b[0m\n\u001b[0m\u001b[0;32m      2\u001b[0m \u001b[0mratings\u001b[0m \u001b[1;33m\u003d\u001b[0m \u001b[0mnp\u001b[0m\u001b[1;33m.\u001b[0m\u001b[0mdot\u001b[0m\u001b[1;33m(\u001b[0m\u001b[0mmif\u001b[0m\u001b[1;33m[\u001b[0m\u001b[0msampled_items\u001b[0m\u001b[1;33m]\u001b[0m\u001b[1;33m,\u001b[0m \u001b[0mmuf\u001b[0m\u001b[1;33m[\u001b[0m\u001b[0mu\u001b[0m\u001b[1;33m]\u001b[0m\u001b[1;33m)\u001b[0m\u001b[1;33m\u001b[0m\u001b[0m\n\u001b[0;32m      3\u001b[0m \u001b[0mplt\u001b[0m\u001b[1;33m.\u001b[0m\u001b[0mhist\u001b[0m\u001b[1;33m(\u001b[0m\u001b[0mratings\u001b[0m\u001b[1;33m)\u001b[0m\u001b[1;33m\u001b[0m\u001b[0m\n\u001b[0;32m      4\u001b[0m \u001b[0mratings2\u001b[0m \u001b[1;33m\u003d\u001b[0m \u001b[0mnp\u001b[0m\u001b[1;33m.\u001b[0m\u001b[0mdot\u001b[0m\u001b[1;33m(\u001b[0m\u001b[0mmif\u001b[0m\u001b[1;33m[\u001b[0m\u001b[0mrated_items\u001b[0m\u001b[1;33m]\u001b[0m\u001b[1;33m,\u001b[0m \u001b[0mmuf\u001b[0m\u001b[1;33m[\u001b[0m\u001b[0mu\u001b[0m\u001b[1;33m]\u001b[0m\u001b[1;33m)\u001b[0m\u001b[1;33m\u001b[0m\u001b[0m\n\u001b[0;32m      5\u001b[0m \u001b[0mplt\u001b[0m\u001b[1;33m.\u001b[0m\u001b[0mhist\u001b[0m\u001b[1;33m(\u001b[0m\u001b[0mratings2\u001b[0m\u001b[1;33m,\u001b[0m \u001b[0mlabel\u001b[0m\u001b[1;33m\u003d\u001b[0m\u001b[1;34m\"Actual\"\u001b[0m\u001b[1;33m)\u001b[0m\u001b[1;33m\u001b[0m\u001b[0m\n",
            "\u001b[1;32mmtrand.pyx\u001b[0m in \u001b[0;36mnumpy.random.mtrand.RandomState.choice\u001b[1;34m()\u001b[0m\n",
            "\u001b[1;31mValueError\u001b[0m: probabilities are not non-negative"
          ]
        }
      ],
      "source": [
        "sampled_items \u003d np.random.choice(list(range(len(probas))), 100, False, p\u003dprobas)\n",
        "ratings \u003d np.dot(mif[sampled_items], muf[u])\n",
        "plt.hist(ratings)\n",
        "ratings2 \u003d np.dot(mif[rated_items], muf[u])\n",
        "plt.hist(ratings2, label\u003d\"Actual\")"
      ]
    },
    {
      "cell_type": "code",
      "execution_count": 206,
      "metadata": {
        "pycharm": {}
      },
      "outputs": [
        {
          "name": "stdout",
          "output_type": "stream",
          "text": [
            "Initialization 0\n",
            "  Iteration 1\t time lapse 0.16955s\t ll change inf\n",
            "  Iteration 2\t time lapse 0.07480s\t ll change 0.00000\n",
            "Initialization converged: True\t time lapse 0.24534s\t ll 850.07607\n"
          ]
        },
        {
          "data": {
            "text/plain": [
              "GaussianMixture(n_components\u003d20, verbose\u003d2, verbose_interval\u003d1)"
            ]
          },
          "execution_count": 206,
          "metadata": {},
          "output_type": "execute_result"
        }
      ],
      "source": [
        "from scipy.sparse import csc_matrix, dok_matrix\n",
        "from sklearn.linear_model import LogisticRegression\n",
        "from sklearn.multiclass import OneVsRestClassifier\n",
        "from sparsesvd import sparsesvd\n",
        "import numpy as np\n",
        "from sklearn.mixture import GaussianMixture\n",
        "import matplotlib.pyplot as plt\n",
        "\n",
        "gmm \u003d GaussianMixture(20, verbose\u003d2, verbose_interval\u003d1)\n",
        "gmm.fit(muf)"
      ]
    },
    {
      "cell_type": "code",
      "execution_count": 207,
      "metadata": {
        "pycharm": {}
      },
      "outputs": [],
      "source": [
        "new_uf, _ \u003d gmm.sample(200)\n",
        "\n",
        "rating_matrix \u003d dok_matrix((200, len(id_to_item)))\n",
        "\n",
        "ids \u003d list(range(len(id_to_item)))"
      ]
    },
    {
      "cell_type": "code",
      "execution_count": 208,
      "metadata": {
        "pycharm": {}
      },
      "outputs": [],
      "source": [
        "for u in range(200):\n",
        "    ratings_count \u003d int(50)\n",
        "    \n",
        "    v \u003d muf[u, :]\n",
        "    dotproducts \u003d np.dot(miif, v)\n",
        "    logits \u003d 1 / (1 + np.exp(-dotproducts))\n",
        "    probas \u003d logits / np.sum(logits)\n",
        "\n",
        "    sampled_items \u003d np.random.choice(ids, ratings_count, False, p\u003dprobas)\n",
        "    sampled_rating \u003d mif[sampled_items].dot(v)\n",
        "    sampled_rating \u003d np.minimum(1.0, np.maximum(sampled_rating, -1.0))\n",
        "\n",
        "    for i, r in zip(sampled_items, sampled_rating):\n",
        "        rating_matrix[u, i] \u003d r"
      ]
    },
    {
      "cell_type": "code",
      "execution_count": 209,
      "metadata": {
        "pycharm": {}
      },
      "outputs": [
        {
          "data": {
            "text/plain": [
              "(array([ 772., 1252., 2215., 2515., 3231.]),\n",
              " array([-1. , -0.6, -0.2,  0.2,  0.6,  1. ]),\n",
              " \u003ca list of 5 Patch objects\u003e)"
            ]
          },
          "execution_count": 209,
          "metadata": {},
          "output_type": "execute_result"
        },
        {
          "data": {
            "image/png": "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\u003d\u003d\n",
            "text/plain": [
              "\u003cFigure size 432x288 with 1 Axes\u003e"
            ]
          },
          "metadata": {
            "needs_background": "light"
          },
          "output_type": "display_data"
        }
      ],
      "source": [
        "plt.hist(rating_matrix.values(), bins\u003d5)"
      ]
    },
    {
      "cell_type": "code",
      "execution_count": 201,
      "metadata": {
        "pycharm": {}
      },
      "outputs": [
        {
          "data": {
            "text/plain": [
              "(array([ 4181.,  9342., 25597., 39954., 21762.]),\n",
              " array([-0.8 , -0.44, -0.08,  0.28,  0.64,  1.  ]),\n",
              " \u003ca list of 5 Patch objects\u003e)"
            ]
          },
          "execution_count": 201,
          "metadata": {},
          "output_type": "execute_result"
        },
        {
          "data": {
            "image/png": "[encoded data removed]",
            "text/plain": [
              "\u003cFigure size 432x288 with 1 Axes\u003e"
            ]
          },
          "metadata": {
            "needs_background": "light"
          },
          "output_type": "display_data"
        }
      ],
      "source": [
        "plt.hist(rating_matrix.data, bins\u003d5)"
      ]
    },
    {
      "cell_type": "code",
      "execution_count": 196,
      "metadata": {
        "pycharm": {}
      },
      "outputs": [],
      "source": [
        "import csv\n",
        "\n",
        "def calculateTestAverage(fileName):\n",
        "    file \u003d open(fileName, \"r\")\n",
        "    csvReader \u003d csv.reader(file)\n",
        "    \n",
        "    header \u003d next(csvReader)\n",
        "    tests \u003d 0\n",
        "    totalScore \u003d 0\n",
        "    \n",
        "    for row in csvReader:\n",
        "        tests +\u003d 1\n",
        "        print(row)\n",
        "        totalScore +\u003d int(row[1])\n",
        "    file.close()\n",
        "    \n",
        "    print(totalScore/tests)"
      ]
    },
    {
      "cell_type": "code",
      "execution_count": 198,
      "metadata": {
        "pycharm": {}
      },
      "outputs": [
        {
          "name": "stdout",
          "output_type": "stream",
          "text": [
            "[\u00271\u0027, \u00272\u0027]\n",
            "[\u00273\u0027, \u00275\u0027]\n",
            "3.5\n"
          ]
        }
      ],
      "source": [
        "calculateTestAverage(\"test\")"
      ]
    },
    {
      "cell_type": "code",
      "execution_count": null,
      "metadata": {
        "pycharm": {}
      },
      "outputs": [],
      "source": []
    }
  ],
  "metadata": {
    "kernelspec": {
      "display_name": "Python 3",
      "language": "python",
      "name": "python3"
    },
    "language_info": {
      "codemirror_mode": {
        "name": "ipython",
        "version": 3
      },
      "file_extension": ".py",
      "mimetype": "text/x-python",
      "name": "python",
      "nbconvert_exporter": "python",
      "pygments_lexer": "ipython3",
      "version": "3.6.5"
    },
    "stem_cell": {
      "cell_type": "raw",
      "metadata": {
        "pycharm": {
          "metadata": false
        }
      },
      "source": ""
    }
  },
  "nbformat": 4,
  "nbformat_minor": 1
}