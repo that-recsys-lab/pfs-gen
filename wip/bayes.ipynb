{
 "cells": [
  {
   "cell_type": "code",
   "execution_count": 1,
   "id": "1878c854-0495-457d-aed4-ec4369d62e3c",
   "metadata": {},
   "outputs": [],
   "source": [
    "%load_ext autoreload\n",
    "%autoreload 2"
   ]
  },
  {
   "cell_type": "code",
   "execution_count": 28,
   "id": "f8d13017-251f-4292-9fdc-7438d2ce18a6",
   "metadata": {},
   "outputs": [],
   "source": [
    "import torch\n",
    "import torch.nn as nn\n",
    "import torch.optim as optim\n",
    "import torch.utils as utils\n",
    "import torchvision\n",
    "import numpy as np\n",
    "from bayesian_torch.layers import LinearReparameterization"
   ]
  },
  {
   "cell_type": "code",
   "execution_count": 29,
   "id": "1a6bfa9d-936b-44ca-ae1f-8f468af3bf90",
   "metadata": {},
   "outputs": [],
   "source": [
    "from datasets import CursorHandle"
   ]
  },
  {
   "cell_type": "code",
   "execution_count": 59,
   "id": "ba4661f3-513c-40d2-94bc-497e6c4324f6",
   "metadata": {},
   "outputs": [],
   "source": [
    "cur = CursorHandle(({\"u\": 1, \"r\": 2, \"i\": 4} for _ in range(256)), 256, {\"users\": lambda x: x[\"u\"], \"items\": lambda x: x[\"i\"], \"rating\": lambda x: x[\"r\"]})"
   ]
  },
  {
   "cell_type": "code",
   "execution_count": 61,
   "id": "da8ddb3d-709d-4776-9d44-4ecd1b7647e0",
   "metadata": {},
   "outputs": [
    {
     "name": "stdout",
     "output_type": "stream",
     "text": [
      "cursor 0x7f58caeeba00 current entry #0: <users:None>, <items:None>, <rating:None>\n",
      "cursor 0x7f58caeeba00 current entry #1: <users:None>, <items:None>, <rating:None>\n",
      "cursor 0x7f58caeeba00 current entry #2: <users:None>, <items:None>, <rating:None>\n",
      "cursor 0x7f58caeeba00 current entry #3: <users:None>, <items:None>, <rating:None>\n",
      "cursor 0x7f58caeeba00 current entry #4: <users:None>, <items:None>, <rating:None>\n",
      "cursor 0x7f58caeeba00 current entry #5: <users:None>, <items:None>, <rating:None>\n",
      "cursor 0x7f58caeeba00 current entry #6: <users:None>, <items:None>, <rating:None>\n",
      "cursor 0x7f58caeeba00 current entry #7: <users:None>, <items:None>, <rating:None>\n",
      "cursor 0x7f58caeeba00 current entry #8: <users:None>, <items:None>, <rating:None>\n",
      "cursor 0x7f58caeeba00 current entry #9: <users:None>, <items:None>, <rating:None>\n",
      "cursor 0x7f58caeeba00 current entry #10: <users:None>, <items:None>, <rating:None>\n",
      "cursor 0x7f58caeeba00 current entry #11: <users:None>, <items:None>, <rating:None>\n"
     ]
    }
   ],
   "source": [
    "for c in cur:\n",
    "    print(c)\n",
    "    if c.idx > 10:\n",
    "        break"
   ]
  },
  {
   "cell_type": "code",
   "execution_count": 13,
   "id": "a826c09d-b76d-447d-984e-45f844b8f181",
   "metadata": {},
   "outputs": [
    {
     "data": {
      "text/plain": [
       "Entry 0 (fields: <users>, <items>, <rating>)"
      ]
     },
     "execution_count": 13,
     "metadata": {},
     "output_type": "execute_result"
    }
   ],
   "source": [
    "cur2 = CursorHandle(list(range(256)), 256, {\"q\": lambda x: x*x})\n",
    "c"
   ]
  },
  {
   "cell_type": "code",
   "execution_count": 4,
   "id": "f0b195d0-d9f1-48b6-9c80-6c6e57244c34",
   "metadata": {},
   "outputs": [
    {
     "data": {
      "text/plain": [
       "{'u': 1, 'r': 2, 'i': 4}"
      ]
     },
     "execution_count": 4,
     "metadata": {},
     "output_type": "execute_result"
    }
   ],
   "source": [
    "c._current"
   ]
  },
  {
   "cell_type": "code",
   "execution_count": 3,
   "id": "c7153dc2-0e7f-4afe-b125-5cda49655905",
   "metadata": {},
   "outputs": [
    {
     "name": "stderr",
     "output_type": "stream",
     "text": [
      "/home/vg/synthetic/datasets.py:105: ParserWarning: Falling back to the 'python' engine because the 'c' engine does not support regex separators (separators > 1 char and different from '\\s+' are interpreted as regex); you can avoid this warning by specifying engine='python'.\n",
      "  ratings = pd.read_csv(path, sep=sep)\n"
     ]
    }
   ],
   "source": [
    "from datasets import Movielens1MDataset\n",
    "ds = Movielens1MDataset(rescale=False)"
   ]
  },
  {
   "cell_type": "code",
   "execution_count": 4,
   "id": "07fc3cab-48c7-421b-98cb-8d9398386230",
   "metadata": {},
   "outputs": [
    {
     "data": {
      "text/plain": [
       "[('users', 6040),\n",
       " ('items', 3706),\n",
       " ('sparsity', 0.9553164190519758),\n",
       " ('mean rating', 0.16003706178990218),\n",
       " ('user avg rating count', 165.5973509933775),\n",
       " ('item avg rating count', 269.88882892606586),\n",
       " ('rating', <Figure size 432x288 with 1 Axes>),\n",
       " ('user rating distribution', <Figure size 432x288 with 1 Axes>),\n",
       " ('item rating distribution', <Figure size 432x288 with 1 Axes>)]"
      ]
     },
     "execution_count": 4,
     "metadata": {},
     "output_type": "execute_result"
    },
    {
     "data": {
      "image/png": "[encoded data removed]",
      "text/plain": [
       "<Figure size 432x288 with 1 Axes>"
      ]
     },
     "metadata": {
      "needs_background": "light"
     },
     "output_type": "display_data"
    },
    {
     "data": {
      "image/png": "[encoded data removed]",
      "text/plain": [
       "<Figure size 432x288 with 1 Axes>"
      ]
     },
     "metadata": {
      "needs_background": "light"
     },
     "output_type": "display_data"
    },
    {
     "data": {
      "image/png": "[encoded data removed]",
      "text/plain": [
       "<Figure size 432x288 with 1 Axes>"
      ]
     },
     "metadata": {
      "needs_background": "light"
     },
     "output_type": "display_data"
    }
   ],
   "source": [
    "ds.print_stats()"
   ]
  },
  {
   "cell_type": "code",
   "execution_count": 5,
   "id": "cf8a9579-9706-4bde-afef-2098b13cda6b",
   "metadata": {},
   "outputs": [
    {
     "name": "stdout",
     "output_type": "stream",
     "text": [
      "(0, 0, 3.0)\n"
     ]
    }
   ],
   "source": [
    "for row in ds.as_iterator():\n",
    "    print(row)\n",
    "    break"
   ]
  },
  {
   "cell_type": "code",
   "execution_count": 6,
   "id": "c7c6d966-80eb-45be-9795-846f8de44f3e",
   "metadata": {},
   "outputs": [],
   "source": [
    "from bayesian_torch.layers import LinearReparameterization"
   ]
  },
  {
   "cell_type": "code",
   "execution_count": 7,
   "id": "73827e98-529f-47a2-bc23-45cf0e611eae",
   "metadata": {},
   "outputs": [
    {
     "ename": "NameError",
     "evalue": "name 'model' is not defined",
     "output_type": "error",
     "traceback": [
      "\u001B[0;31m---------------------------------------------------------------------------\u001B[0m",
      "\u001B[0;31mNameError\u001B[0m                                 Traceback (most recent call last)",
      "Input \u001B[0;32mIn [7]\u001B[0m, in \u001B[0;36m<module>\u001B[0;34m\u001B[0m\n\u001B[1;32m      1\u001B[0m criterion \u001B[38;5;241m=\u001B[39m torch\u001B[38;5;241m.\u001B[39mnn\u001B[38;5;241m.\u001B[39mCrossEntropyLoss()\n\u001B[0;32m----> 2\u001B[0m optimizer \u001B[38;5;241m=\u001B[39m torch\u001B[38;5;241m.\u001B[39moptim\u001B[38;5;241m.\u001B[39mAdam(\u001B[43mmodel\u001B[49m\u001B[38;5;241m.\u001B[39mparameters(), args\u001B[38;5;241m.\u001B[39mlearning_rate)\n\u001B[1;32m      4\u001B[0m output \u001B[38;5;241m=\u001B[39m model(x_train)\n\u001B[1;32m      5\u001B[0m kl \u001B[38;5;241m=\u001B[39m get_kl_loss(model)\n",
      "\u001B[0;31mNameError\u001B[0m: name 'model' is not defined"
     ]
    }
   ],
   "source": [
    "criterion = torch.nn.CrossEntropyLoss()\n",
    "optimizer = torch.optim.Adam(model.parameters(), args.learning_rate)\n",
    "\n",
    "output = model(x_train)\n",
    "kl = get_kl_loss(model)\n",
    "ce_loss = criterion(output, y_train)\n",
    "loss = ce_loss + kl / args.batch_size \n",
    "\n",
    "loss.backward()\n",
    "optimizer.step()\n"
   ]
  },
  {
   "cell_type": "code",
   "execution_count": 9,
   "id": "406cf2a3-25a5-4d0e-a1af-9ac4e0935b11",
   "metadata": {},
   "outputs": [],
   "source": [
    "class Laplace:\n",
    "    def __init__(self, loc, spread):\n",
    "        if loc.shape != spread.shape:\n",
    "            raise Exception(loc.shape, spread.shape)\n",
    "        self.loc, self.spread = loc, spread\n",
    "    \n",
    "    def cdf(self, x=None):\n",
    "        shifted = (x - self.loc) / self.spread\n",
    "        result = .5 * torch.exp(shifted)\n",
    "        result[shifted >= .0] = (1.0 - .5 * torch.exp(-shifted))[shifted >= .0]\n",
    "        return result"
   ]
  },
  {
   "cell_type": "code",
   "execution_count": 10,
   "id": "f8755310-50dc-4275-a8c5-9bcceaa1b692",
   "metadata": {},
   "outputs": [],
   "source": [
    "LATENT_EMBEDDING_SIZE = 3\n",
    "RATING_HIDDEN_SIZE = 4\n",
    "\n",
    "RATING_LEVELS = 5\n",
    "rating_ranges = [(-torch.inf, -1.5), (-1.5, -0.5), (-0.5, 0.5), (0.5, 1.5), (1.5, +torch.inf)]\n",
    "BATCH_SIZE = 256"
   ]
  },
  {
   "cell_type": "code",
   "execution_count": 11,
   "id": "4657f29e-d30a-4572-b8f3-24d8ddb65431",
   "metadata": {},
   "outputs": [],
   "source": [
    "item_lat = nn.Embedding(ds.n_items, LATENT_EMBEDDING_SIZE)\n",
    "hidden_user_lat = nn.Embedding(ds.n_users, LATENT_EMBEDDING_SIZE * RATING_HIDDEN_SIZE)\n",
    "\n",
    "hidden_to_rating_loc = nn.Linear(RATING_HIDDEN_SIZE, 1)\n",
    "hidden_to_rating_spread = nn.Linear(RATING_HIDDEN_SIZE, 1)\n",
    "\n",
    "def user_item_interaction(iidx, uidx):\n",
    "    item_emb = item_lat(iidx).reshape(iidx.shape[0], 1, LATENT_EMBEDDING_SIZE)\n",
    "    user_emb = hidden_user_lat(uidx).reshape((iidx.shape[0], LATENT_EMBEDDING_SIZE, RATING_HIDDEN_SIZE))\n",
    "    return torch.matmul(item_emb, user_emb)\n",
    "\n",
    "def rating_loc_spread(interaction, eta=0.05):\n",
    "    loc = hidden_to_rating_loc(interaction)[:, :, 0]\n",
    "    spread = eta + torch.exp(hidden_to_rating_spread(interaction))[:, :, 0]\n",
    "    return loc, spread"
   ]
  },
  {
   "cell_type": "code",
   "execution_count": 12,
   "id": "f130746d-e8d1-471e-b1f7-43c9b5a091e1",
   "metadata": {},
   "outputs": [
    {
     "ename": "NameError",
     "evalue": "name 'b' is not defined",
     "output_type": "error",
     "traceback": [
      "\u001B[0;31m---------------------------------------------------------------------------\u001B[0m",
      "\u001B[0;31mNameError\u001B[0m                                 Traceback (most recent call last)",
      "Input \u001B[0;32mIn [12]\u001B[0m, in \u001B[0;36m<module>\u001B[0;34m\u001B[0m\n\u001B[0;32m----> 1\u001B[0m r \u001B[38;5;241m=\u001B[39m torch\u001B[38;5;241m.\u001B[39mtensor(\u001B[43mb\u001B[49m[\u001B[38;5;124m\"\u001B[39m\u001B[38;5;124mr\u001B[39m\u001B[38;5;124m\"\u001B[39m][:, np\u001B[38;5;241m.\u001B[39mnewaxis])\n\u001B[1;32m      2\u001B[0m r\u001B[38;5;241m.\u001B[39mshape\n",
      "\u001B[0;31mNameError\u001B[0m: name 'b' is not defined"
     ]
    }
   ],
   "source": [
    "r = torch.tensor(b[\"r\"][:, np.newaxis])\n",
    "r.shape"
   ]
  },
  {
   "cell_type": "code",
   "execution_count": 14,
   "id": "b4a86366-5b33-40c6-b14c-685f6f0d4f86",
   "metadata": {},
   "outputs": [
    {
     "ename": "NameError",
     "evalue": "name 'b' is not defined",
     "output_type": "error",
     "traceback": [
      "\u001B[0;31m---------------------------------------------------------------------------\u001B[0m",
      "\u001B[0;31mNameError\u001B[0m                                 Traceback (most recent call last)",
      "Input \u001B[0;32mIn [14]\u001B[0m, in \u001B[0;36m<module>\u001B[0;34m\u001B[0m\n\u001B[0;32m----> 1\u001B[0m iidx \u001B[38;5;241m=\u001B[39m torch\u001B[38;5;241m.\u001B[39mtensor(\u001B[43mb\u001B[49m[\u001B[38;5;124m\"\u001B[39m\u001B[38;5;124mi\u001B[39m\u001B[38;5;124m\"\u001B[39m])\n\u001B[1;32m      2\u001B[0m uidx \u001B[38;5;241m=\u001B[39m torch\u001B[38;5;241m.\u001B[39mtensor(b[\u001B[38;5;124m\"\u001B[39m\u001B[38;5;124mu\u001B[39m\u001B[38;5;124m\"\u001B[39m])\n\u001B[1;32m      4\u001B[0m inter \u001B[38;5;241m=\u001B[39m user_item_interaction(iidx, uidx)\n",
      "\u001B[0;31mNameError\u001B[0m: name 'b' is not defined"
     ]
    }
   ],
   "source": [
    "iidx = torch.tensor(b[\"i\"])\n",
    "uidx = torch.tensor(b[\"u\"])\n",
    "\n",
    "inter = user_item_interaction(iidx, uidx)\n",
    "loc, spread = rating_loc_spread(inter)"
   ]
  },
  {
   "cell_type": "code",
   "execution_count": 5,
   "id": "2a683214-04ae-402f-88dd-8f601108c1d5",
   "metadata": {
    "scrolled": true,
    "tags": []
   },
   "outputs": [],
   "source": [
    "def ratings_batches(ds, batch_size: int = 256):\n",
    "    data = np.vstack(ds.rating_matrix.nonzero())\n",
    "    indices = list(range(ds.n_ratings))\n",
    "    np.random.shuffle(indices)\n",
    "    data = data[:, indices]\n",
    "    batches = np.array_split(data, ds.n_ratings // batch_size + 1, axis=1)\n",
    "    for batch in batches:\n",
    "        yield {\"u\": batch[0], \"i\": batch[1], \"r\": np.array(\n",
    "            ds.rating_matrix[batch[0], batch[1]]\n",
    "        )[0, :]}"
   ]
  },
  {
   "cell_type": "code",
   "execution_count": 16,
   "id": "b6febfeb-33f4-4b01-b1fc-0ae167f5070c",
   "metadata": {},
   "outputs": [
    {
     "ename": "NameError",
     "evalue": "name 'loc' is not defined",
     "output_type": "error",
     "traceback": [
      "\u001B[0;31m---------------------------------------------------------------------------\u001B[0m",
      "\u001B[0;31mNameError\u001B[0m                                 Traceback (most recent call last)",
      "Input \u001B[0;32mIn [16]\u001B[0m, in \u001B[0;36m<module>\u001B[0;34m\u001B[0m\n\u001B[0;32m----> 1\u001B[0m rating_distro \u001B[38;5;241m=\u001B[39m Laplace(\u001B[43mloc\u001B[49m, spread)\n\u001B[1;32m      2\u001B[0m probas \u001B[38;5;241m=\u001B[39m rating_distro\u001B[38;5;241m.\u001B[39mcdf(r \u001B[38;5;241m+\u001B[39m \u001B[38;5;241m0.5\u001B[39m) \u001B[38;5;241m-\u001B[39m rating_distro\u001B[38;5;241m.\u001B[39mcdf(r \u001B[38;5;241m-\u001B[39m \u001B[38;5;241m0.5\u001B[39m)\n\u001B[1;32m      3\u001B[0m inter\u001B[38;5;241m.\u001B[39mshape, probas\n",
      "\u001B[0;31mNameError\u001B[0m: name 'loc' is not defined"
     ]
    }
   ],
   "source": [
    "rating_distro = Laplace(loc, spread)\n",
    "probas = rating_distro.cdf(r + 0.5) - rating_distro.cdf(r - 0.5)\n",
    "inter.shape, probas"
   ]
  },
  {
   "cell_type": "code",
   "execution_count": 6,
   "id": "b90e0c19-b224-49b7-a98b-f25fd1e09d47",
   "metadata": {},
   "outputs": [],
   "source": [
    "batches = ratings_batches(ds)"
   ]
  },
  {
   "cell_type": "code",
   "execution_count": 28,
   "id": "17147289-99d4-4292-8e7c-ef33b4e418b0",
   "metadata": {},
   "outputs": [
    {
     "data": {
      "text/plain": [
       "2"
      ]
     },
     "execution_count": 28,
     "metadata": {},
     "output_type": "execute_result"
    },
    {
     "name": "stdout",
     "output_type": "stream",
     "text": [
      "ERROR! Session/line number was not unique in database. History logging moved to new session 85\n"
     ]
    }
   ],
   "source": [
    "1+1"
   ]
  },
  {
   "cell_type": "code",
   "execution_count": 30,
   "id": "396ac8dd-250f-4b45-860f-114cb1867d9b",
   "metadata": {},
   "outputs": [
    {
     "data": {
      "text/plain": [
       "11"
      ]
     },
     "execution_count": 30,
     "metadata": {},
     "output_type": "execute_result"
    }
   ],
   "source": [
    "5+3+3"
   ]
  },
  {
   "cell_type": "code",
   "execution_count": 32,
   "id": "736e5cda-085d-428c-a972-13a82649dfa8",
   "metadata": {},
   "outputs": [
    {
     "name": "stdout",
     "output_type": "stream",
     "text": [
      "ERROR! Session/line number was not unique in database. History logging moved to new session 91\n"
     ]
    }
   ],
   "source": [
    "i = cur.__iter__()"
   ]
  },
  {
   "cell_type": "code",
   "execution_count": null,
   "id": "ce2ce0f8-efa2-444d-97c1-50eef3b03183",
   "metadata": {},
   "outputs": [],
   "source": [
    "next(i)"
   ]
  },
  {
   "cell_type": "code",
   "execution_count": null,
   "id": "cfdc09ec-db96-47f2-8ab5-41509e130857",
   "metadata": {},
   "outputs": [
    {
     "name": "stdout",
     "output_type": "stream",
     "text": [
      "ERROR! Session/line number was not unique in database. History logging moved to new session 92\n"
     ]
    }
   ],
   "source": [
    "i"
   ]
  },
  {
   "cell_type": "code",
   "execution_count": null,
   "id": "a78bbce6-64ba-4f0e-acb0-6a43756e21c3",
   "metadata": {},
   "outputs": [],
   "source": []
  }
 ],
 "metadata": {
  "kernelspec": {
   "display_name": "Python 3 (ipykernel)",
   "language": "python",
   "name": "python3"
  },
  "language_info": {
   "codemirror_mode": {
    "name": "ipython",
    "version": 3
   },
   "file_extension": ".py",
   "mimetype": "text/x-python",
   "name": "python",
   "nbconvert_exporter": "python",
   "pygments_lexer": "ipython3",
   "version": "3.8.10"
  }
 },
 "nbformat": 4,
 "nbformat_minor": 5
}